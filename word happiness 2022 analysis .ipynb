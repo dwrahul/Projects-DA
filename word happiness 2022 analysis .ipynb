{
 "cells": [
  {
   "cell_type": "markdown",
   "id": "58815046",
   "metadata": {},
   "source": [
    "   # Word Happiness 2022 Analysis "
   ]
  },
  {
   "cell_type": "code",
   "execution_count": 1,
   "id": "a7a5a09f",
   "metadata": {},
   "outputs": [],
   "source": [
    "#importing Libraries \n",
    "import pandas as pd\n",
    "import numpy as np\n",
    "import matplotlib.pyplot as plt\n",
    "import seaborn as sns\n",
    "import plotly.express as px\n",
    "\n",
    "# surpress warning \n",
    "\n",
    "import warnings \n",
    "warnings.filterwarnings('ignore')"
   ]
  },
  {
   "cell_type": "markdown",
   "id": "88682577",
   "metadata": {},
   "source": [
    "## 1. Cleaning and inspecting data"
   ]
  },
  {
   "cell_type": "code",
   "execution_count": 2,
   "id": "4b995c70",
   "metadata": {},
   "outputs": [],
   "source": [
    "df = pd.read_csv(\"C:/Users/win/Desktop/tableau project/World Happiness Report 2022.csv\")"
   ]
  },
  {
   "cell_type": "code",
   "execution_count": 3,
   "id": "56e7129a",
   "metadata": {},
   "outputs": [
    {
     "data": {
      "text/html": [
       "<div>\n",
       "<style scoped>\n",
       "    .dataframe tbody tr th:only-of-type {\n",
       "        vertical-align: middle;\n",
       "    }\n",
       "\n",
       "    .dataframe tbody tr th {\n",
       "        vertical-align: top;\n",
       "    }\n",
       "\n",
       "    .dataframe thead th {\n",
       "        text-align: right;\n",
       "    }\n",
       "</style>\n",
       "<table border=\"1\" class=\"dataframe\">\n",
       "  <thead>\n",
       "    <tr style=\"text-align: right;\">\n",
       "      <th></th>\n",
       "      <th>RANK</th>\n",
       "      <th>Country</th>\n",
       "      <th>Happiness score</th>\n",
       "      <th>Whisker-high</th>\n",
       "      <th>Whisker-low</th>\n",
       "      <th>Dystopia (1.83) + residual</th>\n",
       "      <th>Explained by: GDP per capita</th>\n",
       "      <th>Explained by: Social support</th>\n",
       "      <th>Explained by: Healthy life expectancy</th>\n",
       "      <th>Explained by: Freedom to make life choices</th>\n",
       "      <th>Explained by: Generosity</th>\n",
       "      <th>Explained by: Perceptions of corruption</th>\n",
       "    </tr>\n",
       "  </thead>\n",
       "  <tbody>\n",
       "    <tr>\n",
       "      <th>0</th>\n",
       "      <td>1</td>\n",
       "      <td>Finland</td>\n",
       "      <td>7.821</td>\n",
       "      <td>7.886</td>\n",
       "      <td>7.756</td>\n",
       "      <td>2.518</td>\n",
       "      <td>1.892</td>\n",
       "      <td>1.258</td>\n",
       "      <td>0.775</td>\n",
       "      <td>0.736</td>\n",
       "      <td>0.109</td>\n",
       "      <td>0.534</td>\n",
       "    </tr>\n",
       "    <tr>\n",
       "      <th>1</th>\n",
       "      <td>2</td>\n",
       "      <td>Denmark</td>\n",
       "      <td>7.636</td>\n",
       "      <td>7.710</td>\n",
       "      <td>7.563</td>\n",
       "      <td>2.226</td>\n",
       "      <td>1.953</td>\n",
       "      <td>1.243</td>\n",
       "      <td>0.777</td>\n",
       "      <td>0.719</td>\n",
       "      <td>0.188</td>\n",
       "      <td>0.532</td>\n",
       "    </tr>\n",
       "    <tr>\n",
       "      <th>2</th>\n",
       "      <td>3</td>\n",
       "      <td>Iceland</td>\n",
       "      <td>7.557</td>\n",
       "      <td>7.651</td>\n",
       "      <td>7.464</td>\n",
       "      <td>2.320</td>\n",
       "      <td>1.936</td>\n",
       "      <td>1.320</td>\n",
       "      <td>0.803</td>\n",
       "      <td>0.718</td>\n",
       "      <td>0.270</td>\n",
       "      <td>0.191</td>\n",
       "    </tr>\n",
       "    <tr>\n",
       "      <th>3</th>\n",
       "      <td>4</td>\n",
       "      <td>Switzerland</td>\n",
       "      <td>7.512</td>\n",
       "      <td>7.586</td>\n",
       "      <td>7.437</td>\n",
       "      <td>2.153</td>\n",
       "      <td>2.026</td>\n",
       "      <td>1.226</td>\n",
       "      <td>0.822</td>\n",
       "      <td>0.677</td>\n",
       "      <td>0.147</td>\n",
       "      <td>0.461</td>\n",
       "    </tr>\n",
       "    <tr>\n",
       "      <th>4</th>\n",
       "      <td>5</td>\n",
       "      <td>Netherlands</td>\n",
       "      <td>7.415</td>\n",
       "      <td>7.471</td>\n",
       "      <td>7.359</td>\n",
       "      <td>2.137</td>\n",
       "      <td>1.945</td>\n",
       "      <td>1.206</td>\n",
       "      <td>0.787</td>\n",
       "      <td>0.651</td>\n",
       "      <td>0.271</td>\n",
       "      <td>0.419</td>\n",
       "    </tr>\n",
       "  </tbody>\n",
       "</table>\n",
       "</div>"
      ],
      "text/plain": [
       "   RANK      Country  Happiness score  Whisker-high  Whisker-low  \\\n",
       "0     1      Finland            7.821         7.886        7.756   \n",
       "1     2      Denmark            7.636         7.710        7.563   \n",
       "2     3      Iceland            7.557         7.651        7.464   \n",
       "3     4  Switzerland            7.512         7.586        7.437   \n",
       "4     5  Netherlands            7.415         7.471        7.359   \n",
       "\n",
       "   Dystopia (1.83) + residual  Explained by: GDP per capita  \\\n",
       "0                       2.518                         1.892   \n",
       "1                       2.226                         1.953   \n",
       "2                       2.320                         1.936   \n",
       "3                       2.153                         2.026   \n",
       "4                       2.137                         1.945   \n",
       "\n",
       "   Explained by: Social support  Explained by: Healthy life expectancy  \\\n",
       "0                         1.258                                  0.775   \n",
       "1                         1.243                                  0.777   \n",
       "2                         1.320                                  0.803   \n",
       "3                         1.226                                  0.822   \n",
       "4                         1.206                                  0.787   \n",
       "\n",
       "   Explained by: Freedom to make life choices  Explained by: Generosity  \\\n",
       "0                                       0.736                     0.109   \n",
       "1                                       0.719                     0.188   \n",
       "2                                       0.718                     0.270   \n",
       "3                                       0.677                     0.147   \n",
       "4                                       0.651                     0.271   \n",
       "\n",
       "   Explained by: Perceptions of corruption  \n",
       "0                                    0.534  \n",
       "1                                    0.532  \n",
       "2                                    0.191  \n",
       "3                                    0.461  \n",
       "4                                    0.419  "
      ]
     },
     "execution_count": 3,
     "metadata": {},
     "output_type": "execute_result"
    }
   ],
   "source": [
    "df.head()"
   ]
  },
  {
   "cell_type": "code",
   "execution_count": 4,
   "id": "677f0aec",
   "metadata": {},
   "outputs": [
    {
     "data": {
      "text/plain": [
       "(146, 12)"
      ]
     },
     "execution_count": 4,
     "metadata": {},
     "output_type": "execute_result"
    }
   ],
   "source": [
    "df.shape   #ok"
   ]
  },
  {
   "cell_type": "code",
   "execution_count": 5,
   "id": "7143431c",
   "metadata": {},
   "outputs": [
    {
     "name": "stdout",
     "output_type": "stream",
     "text": [
      "<class 'pandas.core.frame.DataFrame'>\n",
      "RangeIndex: 146 entries, 0 to 145\n",
      "Data columns (total 12 columns):\n",
      " #   Column                                      Non-Null Count  Dtype  \n",
      "---  ------                                      --------------  -----  \n",
      " 0   RANK                                        146 non-null    int64  \n",
      " 1   Country                                     146 non-null    object \n",
      " 2   Happiness score                             146 non-null    float64\n",
      " 3   Whisker-high                                146 non-null    float64\n",
      " 4   Whisker-low                                 146 non-null    float64\n",
      " 5   Dystopia (1.83) + residual                  146 non-null    float64\n",
      " 6   Explained by: GDP per capita                146 non-null    float64\n",
      " 7   Explained by: Social support                146 non-null    float64\n",
      " 8   Explained by: Healthy life expectancy       146 non-null    float64\n",
      " 9   Explained by: Freedom to make life choices  146 non-null    float64\n",
      " 10  Explained by: Generosity                    146 non-null    float64\n",
      " 11  Explained by: Perceptions of corruption     146 non-null    float64\n",
      "dtypes: float64(10), int64(1), object(1)\n",
      "memory usage: 13.8+ KB\n"
     ]
    }
   ],
   "source": [
    "df.info()   #done "
   ]
  },
  {
   "cell_type": "code",
   "execution_count": 6,
   "id": "f3aa74a3",
   "metadata": {},
   "outputs": [
    {
     "data": {
      "text/plain": [
       "RANK                                          0\n",
       "Country                                       0\n",
       "Happiness score                               0\n",
       "Whisker-high                                  0\n",
       "Whisker-low                                   0\n",
       "Dystopia (1.83) + residual                    0\n",
       "Explained by: GDP per capita                  0\n",
       "Explained by: Social support                  0\n",
       "Explained by: Healthy life expectancy         0\n",
       "Explained by: Freedom to make life choices    0\n",
       "Explained by: Generosity                      0\n",
       "Explained by: Perceptions of corruption       0\n",
       "dtype: int64"
      ]
     },
     "execution_count": 6,
     "metadata": {},
     "output_type": "execute_result"
    }
   ],
   "source": [
    "df.isna().sum()   #no null values in any of columns (it is a good thingh)"
   ]
  },
  {
   "cell_type": "code",
   "execution_count": 7,
   "id": "f409adf8",
   "metadata": {},
   "outputs": [
    {
     "data": {
      "text/html": [
       "<div>\n",
       "<style scoped>\n",
       "    .dataframe tbody tr th:only-of-type {\n",
       "        vertical-align: middle;\n",
       "    }\n",
       "\n",
       "    .dataframe tbody tr th {\n",
       "        vertical-align: top;\n",
       "    }\n",
       "\n",
       "    .dataframe thead th {\n",
       "        text-align: right;\n",
       "    }\n",
       "</style>\n",
       "<table border=\"1\" class=\"dataframe\">\n",
       "  <thead>\n",
       "    <tr style=\"text-align: right;\">\n",
       "      <th></th>\n",
       "      <th>RANK</th>\n",
       "      <th>Country</th>\n",
       "      <th>Happiness score</th>\n",
       "      <th>Whisker-high</th>\n",
       "      <th>Whisker-low</th>\n",
       "      <th>Dystopia (1.83) + residual</th>\n",
       "      <th>Explained by: GDP per capita</th>\n",
       "      <th>Explained by: Social support</th>\n",
       "      <th>Explained by: Healthy life expectancy</th>\n",
       "      <th>Explained by: Freedom to make life choices</th>\n",
       "      <th>Explained by: Generosity</th>\n",
       "      <th>Explained by: Perceptions of corruption</th>\n",
       "    </tr>\n",
       "  </thead>\n",
       "  <tbody>\n",
       "    <tr>\n",
       "      <th>131</th>\n",
       "      <td>132</td>\n",
       "      <td>Yemen*</td>\n",
       "      <td>4.197</td>\n",
       "      <td>4.384</td>\n",
       "      <td>4.010</td>\n",
       "      <td>1.561</td>\n",
       "      <td>0.691</td>\n",
       "      <td>1.043</td>\n",
       "      <td>0.384</td>\n",
       "      <td>0.330</td>\n",
       "      <td>0.090</td>\n",
       "      <td>0.098</td>\n",
       "    </tr>\n",
       "    <tr>\n",
       "      <th>132</th>\n",
       "      <td>133</td>\n",
       "      <td>Mauritania*</td>\n",
       "      <td>4.153</td>\n",
       "      <td>4.356</td>\n",
       "      <td>3.950</td>\n",
       "      <td>1.207</td>\n",
       "      <td>1.100</td>\n",
       "      <td>0.865</td>\n",
       "      <td>0.450</td>\n",
       "      <td>0.304</td>\n",
       "      <td>0.088</td>\n",
       "      <td>0.138</td>\n",
       "    </tr>\n",
       "    <tr>\n",
       "      <th>133</th>\n",
       "      <td>134</td>\n",
       "      <td>Jordan</td>\n",
       "      <td>4.152</td>\n",
       "      <td>4.276</td>\n",
       "      <td>4.029</td>\n",
       "      <td>0.695</td>\n",
       "      <td>1.324</td>\n",
       "      <td>0.724</td>\n",
       "      <td>0.675</td>\n",
       "      <td>0.476</td>\n",
       "      <td>0.058</td>\n",
       "      <td>0.200</td>\n",
       "    </tr>\n",
       "    <tr>\n",
       "      <th>134</th>\n",
       "      <td>135</td>\n",
       "      <td>Togo</td>\n",
       "      <td>4.112</td>\n",
       "      <td>4.272</td>\n",
       "      <td>3.953</td>\n",
       "      <td>2.061</td>\n",
       "      <td>0.771</td>\n",
       "      <td>0.322</td>\n",
       "      <td>0.360</td>\n",
       "      <td>0.292</td>\n",
       "      <td>0.174</td>\n",
       "      <td>0.132</td>\n",
       "    </tr>\n",
       "    <tr>\n",
       "      <th>135</th>\n",
       "      <td>136</td>\n",
       "      <td>India</td>\n",
       "      <td>3.777</td>\n",
       "      <td>3.828</td>\n",
       "      <td>3.726</td>\n",
       "      <td>0.795</td>\n",
       "      <td>1.167</td>\n",
       "      <td>0.376</td>\n",
       "      <td>0.471</td>\n",
       "      <td>0.647</td>\n",
       "      <td>0.198</td>\n",
       "      <td>0.123</td>\n",
       "    </tr>\n",
       "    <tr>\n",
       "      <th>136</th>\n",
       "      <td>137</td>\n",
       "      <td>Zambia</td>\n",
       "      <td>3.760</td>\n",
       "      <td>3.902</td>\n",
       "      <td>3.618</td>\n",
       "      <td>1.135</td>\n",
       "      <td>0.930</td>\n",
       "      <td>0.577</td>\n",
       "      <td>0.306</td>\n",
       "      <td>0.525</td>\n",
       "      <td>0.203</td>\n",
       "      <td>0.083</td>\n",
       "    </tr>\n",
       "    <tr>\n",
       "      <th>137</th>\n",
       "      <td>138</td>\n",
       "      <td>Malawi</td>\n",
       "      <td>3.750</td>\n",
       "      <td>3.941</td>\n",
       "      <td>3.560</td>\n",
       "      <td>1.661</td>\n",
       "      <td>0.648</td>\n",
       "      <td>0.279</td>\n",
       "      <td>0.388</td>\n",
       "      <td>0.477</td>\n",
       "      <td>0.140</td>\n",
       "      <td>0.157</td>\n",
       "    </tr>\n",
       "    <tr>\n",
       "      <th>138</th>\n",
       "      <td>139</td>\n",
       "      <td>Tanzania</td>\n",
       "      <td>3.702</td>\n",
       "      <td>3.847</td>\n",
       "      <td>3.558</td>\n",
       "      <td>0.735</td>\n",
       "      <td>0.848</td>\n",
       "      <td>0.597</td>\n",
       "      <td>0.425</td>\n",
       "      <td>0.578</td>\n",
       "      <td>0.248</td>\n",
       "      <td>0.270</td>\n",
       "    </tr>\n",
       "    <tr>\n",
       "      <th>139</th>\n",
       "      <td>140</td>\n",
       "      <td>Sierra Leone</td>\n",
       "      <td>3.574</td>\n",
       "      <td>3.732</td>\n",
       "      <td>3.416</td>\n",
       "      <td>1.556</td>\n",
       "      <td>0.686</td>\n",
       "      <td>0.416</td>\n",
       "      <td>0.273</td>\n",
       "      <td>0.387</td>\n",
       "      <td>0.202</td>\n",
       "      <td>0.055</td>\n",
       "    </tr>\n",
       "    <tr>\n",
       "      <th>140</th>\n",
       "      <td>141</td>\n",
       "      <td>Lesotho*</td>\n",
       "      <td>3.512</td>\n",
       "      <td>3.748</td>\n",
       "      <td>3.276</td>\n",
       "      <td>1.312</td>\n",
       "      <td>0.839</td>\n",
       "      <td>0.848</td>\n",
       "      <td>0.000</td>\n",
       "      <td>0.419</td>\n",
       "      <td>0.076</td>\n",
       "      <td>0.018</td>\n",
       "    </tr>\n",
       "    <tr>\n",
       "      <th>141</th>\n",
       "      <td>142</td>\n",
       "      <td>Botswana*</td>\n",
       "      <td>3.471</td>\n",
       "      <td>3.667</td>\n",
       "      <td>3.275</td>\n",
       "      <td>0.187</td>\n",
       "      <td>1.503</td>\n",
       "      <td>0.815</td>\n",
       "      <td>0.280</td>\n",
       "      <td>0.571</td>\n",
       "      <td>0.012</td>\n",
       "      <td>0.102</td>\n",
       "    </tr>\n",
       "    <tr>\n",
       "      <th>142</th>\n",
       "      <td>143</td>\n",
       "      <td>Rwanda*</td>\n",
       "      <td>3.268</td>\n",
       "      <td>3.462</td>\n",
       "      <td>3.074</td>\n",
       "      <td>0.536</td>\n",
       "      <td>0.785</td>\n",
       "      <td>0.133</td>\n",
       "      <td>0.462</td>\n",
       "      <td>0.621</td>\n",
       "      <td>0.187</td>\n",
       "      <td>0.544</td>\n",
       "    </tr>\n",
       "    <tr>\n",
       "      <th>143</th>\n",
       "      <td>144</td>\n",
       "      <td>Zimbabwe</td>\n",
       "      <td>2.995</td>\n",
       "      <td>3.110</td>\n",
       "      <td>2.880</td>\n",
       "      <td>0.548</td>\n",
       "      <td>0.947</td>\n",
       "      <td>0.690</td>\n",
       "      <td>0.270</td>\n",
       "      <td>0.329</td>\n",
       "      <td>0.106</td>\n",
       "      <td>0.105</td>\n",
       "    </tr>\n",
       "    <tr>\n",
       "      <th>144</th>\n",
       "      <td>145</td>\n",
       "      <td>Lebanon</td>\n",
       "      <td>2.955</td>\n",
       "      <td>3.049</td>\n",
       "      <td>2.862</td>\n",
       "      <td>0.216</td>\n",
       "      <td>1.392</td>\n",
       "      <td>0.498</td>\n",
       "      <td>0.631</td>\n",
       "      <td>0.103</td>\n",
       "      <td>0.082</td>\n",
       "      <td>0.034</td>\n",
       "    </tr>\n",
       "    <tr>\n",
       "      <th>145</th>\n",
       "      <td>146</td>\n",
       "      <td>Afghanistan</td>\n",
       "      <td>2.404</td>\n",
       "      <td>2.469</td>\n",
       "      <td>2.339</td>\n",
       "      <td>1.263</td>\n",
       "      <td>0.758</td>\n",
       "      <td>0.000</td>\n",
       "      <td>0.289</td>\n",
       "      <td>0.000</td>\n",
       "      <td>0.089</td>\n",
       "      <td>0.005</td>\n",
       "    </tr>\n",
       "  </tbody>\n",
       "</table>\n",
       "</div>"
      ],
      "text/plain": [
       "     RANK       Country  Happiness score  Whisker-high  Whisker-low  \\\n",
       "131   132        Yemen*            4.197         4.384        4.010   \n",
       "132   133   Mauritania*            4.153         4.356        3.950   \n",
       "133   134        Jordan            4.152         4.276        4.029   \n",
       "134   135          Togo            4.112         4.272        3.953   \n",
       "135   136         India            3.777         3.828        3.726   \n",
       "136   137        Zambia            3.760         3.902        3.618   \n",
       "137   138        Malawi            3.750         3.941        3.560   \n",
       "138   139      Tanzania            3.702         3.847        3.558   \n",
       "139   140  Sierra Leone            3.574         3.732        3.416   \n",
       "140   141      Lesotho*            3.512         3.748        3.276   \n",
       "141   142     Botswana*            3.471         3.667        3.275   \n",
       "142   143       Rwanda*            3.268         3.462        3.074   \n",
       "143   144      Zimbabwe            2.995         3.110        2.880   \n",
       "144   145       Lebanon            2.955         3.049        2.862   \n",
       "145   146   Afghanistan            2.404         2.469        2.339   \n",
       "\n",
       "     Dystopia (1.83) + residual  Explained by: GDP per capita  \\\n",
       "131                       1.561                         0.691   \n",
       "132                       1.207                         1.100   \n",
       "133                       0.695                         1.324   \n",
       "134                       2.061                         0.771   \n",
       "135                       0.795                         1.167   \n",
       "136                       1.135                         0.930   \n",
       "137                       1.661                         0.648   \n",
       "138                       0.735                         0.848   \n",
       "139                       1.556                         0.686   \n",
       "140                       1.312                         0.839   \n",
       "141                       0.187                         1.503   \n",
       "142                       0.536                         0.785   \n",
       "143                       0.548                         0.947   \n",
       "144                       0.216                         1.392   \n",
       "145                       1.263                         0.758   \n",
       "\n",
       "     Explained by: Social support  Explained by: Healthy life expectancy  \\\n",
       "131                         1.043                                  0.384   \n",
       "132                         0.865                                  0.450   \n",
       "133                         0.724                                  0.675   \n",
       "134                         0.322                                  0.360   \n",
       "135                         0.376                                  0.471   \n",
       "136                         0.577                                  0.306   \n",
       "137                         0.279                                  0.388   \n",
       "138                         0.597                                  0.425   \n",
       "139                         0.416                                  0.273   \n",
       "140                         0.848                                  0.000   \n",
       "141                         0.815                                  0.280   \n",
       "142                         0.133                                  0.462   \n",
       "143                         0.690                                  0.270   \n",
       "144                         0.498                                  0.631   \n",
       "145                         0.000                                  0.289   \n",
       "\n",
       "     Explained by: Freedom to make life choices  Explained by: Generosity  \\\n",
       "131                                       0.330                     0.090   \n",
       "132                                       0.304                     0.088   \n",
       "133                                       0.476                     0.058   \n",
       "134                                       0.292                     0.174   \n",
       "135                                       0.647                     0.198   \n",
       "136                                       0.525                     0.203   \n",
       "137                                       0.477                     0.140   \n",
       "138                                       0.578                     0.248   \n",
       "139                                       0.387                     0.202   \n",
       "140                                       0.419                     0.076   \n",
       "141                                       0.571                     0.012   \n",
       "142                                       0.621                     0.187   \n",
       "143                                       0.329                     0.106   \n",
       "144                                       0.103                     0.082   \n",
       "145                                       0.000                     0.089   \n",
       "\n",
       "     Explained by: Perceptions of corruption  \n",
       "131                                    0.098  \n",
       "132                                    0.138  \n",
       "133                                    0.200  \n",
       "134                                    0.132  \n",
       "135                                    0.123  \n",
       "136                                    0.083  \n",
       "137                                    0.157  \n",
       "138                                    0.270  \n",
       "139                                    0.055  \n",
       "140                                    0.018  \n",
       "141                                    0.102  \n",
       "142                                    0.544  \n",
       "143                                    0.105  \n",
       "144                                    0.034  \n",
       "145                                    0.005  "
      ]
     },
     "execution_count": 7,
     "metadata": {},
     "output_type": "execute_result"
    }
   ],
   "source": [
    "df.tail(15)"
   ]
  },
  {
   "cell_type": "code",
   "execution_count": 8,
   "id": "fb82a468",
   "metadata": {},
   "outputs": [
    {
     "data": {
      "text/html": [
       "<div>\n",
       "<style scoped>\n",
       "    .dataframe tbody tr th:only-of-type {\n",
       "        vertical-align: middle;\n",
       "    }\n",
       "\n",
       "    .dataframe tbody tr th {\n",
       "        vertical-align: top;\n",
       "    }\n",
       "\n",
       "    .dataframe thead th {\n",
       "        text-align: right;\n",
       "    }\n",
       "</style>\n",
       "<table border=\"1\" class=\"dataframe\">\n",
       "  <thead>\n",
       "    <tr style=\"text-align: right;\">\n",
       "      <th></th>\n",
       "      <th>RANK</th>\n",
       "      <th>Country</th>\n",
       "      <th>Happiness score</th>\n",
       "      <th>Whisker-high</th>\n",
       "      <th>Whisker-low</th>\n",
       "      <th>Dystopia (1.83) + residual</th>\n",
       "      <th>Explained by: GDP per capita</th>\n",
       "      <th>Explained by: Social support</th>\n",
       "      <th>Explained by: Healthy life expectancy</th>\n",
       "      <th>Explained by: Freedom to make life choices</th>\n",
       "      <th>Explained by: Generosity</th>\n",
       "      <th>Explained by: Perceptions of corruption</th>\n",
       "    </tr>\n",
       "  </thead>\n",
       "  <tbody>\n",
       "    <tr>\n",
       "      <th>0</th>\n",
       "      <td>1</td>\n",
       "      <td>Finland</td>\n",
       "      <td>7.821</td>\n",
       "      <td>7.886</td>\n",
       "      <td>7.756</td>\n",
       "      <td>2.518</td>\n",
       "      <td>1.892</td>\n",
       "      <td>1.258</td>\n",
       "      <td>0.775</td>\n",
       "      <td>0.736</td>\n",
       "      <td>0.109</td>\n",
       "      <td>0.534</td>\n",
       "    </tr>\n",
       "    <tr>\n",
       "      <th>1</th>\n",
       "      <td>2</td>\n",
       "      <td>Denmark</td>\n",
       "      <td>7.636</td>\n",
       "      <td>7.710</td>\n",
       "      <td>7.563</td>\n",
       "      <td>2.226</td>\n",
       "      <td>1.953</td>\n",
       "      <td>1.243</td>\n",
       "      <td>0.777</td>\n",
       "      <td>0.719</td>\n",
       "      <td>0.188</td>\n",
       "      <td>0.532</td>\n",
       "    </tr>\n",
       "    <tr>\n",
       "      <th>2</th>\n",
       "      <td>3</td>\n",
       "      <td>Iceland</td>\n",
       "      <td>7.557</td>\n",
       "      <td>7.651</td>\n",
       "      <td>7.464</td>\n",
       "      <td>2.320</td>\n",
       "      <td>1.936</td>\n",
       "      <td>1.320</td>\n",
       "      <td>0.803</td>\n",
       "      <td>0.718</td>\n",
       "      <td>0.270</td>\n",
       "      <td>0.191</td>\n",
       "    </tr>\n",
       "    <tr>\n",
       "      <th>3</th>\n",
       "      <td>4</td>\n",
       "      <td>Switzerland</td>\n",
       "      <td>7.512</td>\n",
       "      <td>7.586</td>\n",
       "      <td>7.437</td>\n",
       "      <td>2.153</td>\n",
       "      <td>2.026</td>\n",
       "      <td>1.226</td>\n",
       "      <td>0.822</td>\n",
       "      <td>0.677</td>\n",
       "      <td>0.147</td>\n",
       "      <td>0.461</td>\n",
       "    </tr>\n",
       "    <tr>\n",
       "      <th>4</th>\n",
       "      <td>5</td>\n",
       "      <td>Netherlands</td>\n",
       "      <td>7.415</td>\n",
       "      <td>7.471</td>\n",
       "      <td>7.359</td>\n",
       "      <td>2.137</td>\n",
       "      <td>1.945</td>\n",
       "      <td>1.206</td>\n",
       "      <td>0.787</td>\n",
       "      <td>0.651</td>\n",
       "      <td>0.271</td>\n",
       "      <td>0.419</td>\n",
       "    </tr>\n",
       "    <tr>\n",
       "      <th>5</th>\n",
       "      <td>6</td>\n",
       "      <td>Luxembourg*</td>\n",
       "      <td>7.404</td>\n",
       "      <td>7.501</td>\n",
       "      <td>7.307</td>\n",
       "      <td>2.042</td>\n",
       "      <td>2.209</td>\n",
       "      <td>1.155</td>\n",
       "      <td>0.790</td>\n",
       "      <td>0.700</td>\n",
       "      <td>0.120</td>\n",
       "      <td>0.388</td>\n",
       "    </tr>\n",
       "    <tr>\n",
       "      <th>6</th>\n",
       "      <td>7</td>\n",
       "      <td>Sweden</td>\n",
       "      <td>7.384</td>\n",
       "      <td>7.454</td>\n",
       "      <td>7.315</td>\n",
       "      <td>2.003</td>\n",
       "      <td>1.920</td>\n",
       "      <td>1.204</td>\n",
       "      <td>0.803</td>\n",
       "      <td>0.724</td>\n",
       "      <td>0.218</td>\n",
       "      <td>0.512</td>\n",
       "    </tr>\n",
       "    <tr>\n",
       "      <th>7</th>\n",
       "      <td>8</td>\n",
       "      <td>Norway</td>\n",
       "      <td>7.365</td>\n",
       "      <td>7.440</td>\n",
       "      <td>7.290</td>\n",
       "      <td>1.925</td>\n",
       "      <td>1.997</td>\n",
       "      <td>1.239</td>\n",
       "      <td>0.786</td>\n",
       "      <td>0.728</td>\n",
       "      <td>0.217</td>\n",
       "      <td>0.474</td>\n",
       "    </tr>\n",
       "    <tr>\n",
       "      <th>8</th>\n",
       "      <td>9</td>\n",
       "      <td>Israel</td>\n",
       "      <td>7.364</td>\n",
       "      <td>7.426</td>\n",
       "      <td>7.301</td>\n",
       "      <td>2.634</td>\n",
       "      <td>1.826</td>\n",
       "      <td>1.221</td>\n",
       "      <td>0.818</td>\n",
       "      <td>0.568</td>\n",
       "      <td>0.155</td>\n",
       "      <td>0.143</td>\n",
       "    </tr>\n",
       "    <tr>\n",
       "      <th>9</th>\n",
       "      <td>10</td>\n",
       "      <td>New Zealand</td>\n",
       "      <td>7.200</td>\n",
       "      <td>7.279</td>\n",
       "      <td>7.120</td>\n",
       "      <td>1.954</td>\n",
       "      <td>1.852</td>\n",
       "      <td>1.235</td>\n",
       "      <td>0.752</td>\n",
       "      <td>0.680</td>\n",
       "      <td>0.245</td>\n",
       "      <td>0.483</td>\n",
       "    </tr>\n",
       "    <tr>\n",
       "      <th>10</th>\n",
       "      <td>11</td>\n",
       "      <td>Austria</td>\n",
       "      <td>7.163</td>\n",
       "      <td>7.237</td>\n",
       "      <td>7.089</td>\n",
       "      <td>2.148</td>\n",
       "      <td>1.931</td>\n",
       "      <td>1.165</td>\n",
       "      <td>0.774</td>\n",
       "      <td>0.623</td>\n",
       "      <td>0.193</td>\n",
       "      <td>0.329</td>\n",
       "    </tr>\n",
       "    <tr>\n",
       "      <th>11</th>\n",
       "      <td>12</td>\n",
       "      <td>Australia</td>\n",
       "      <td>7.162</td>\n",
       "      <td>7.244</td>\n",
       "      <td>7.081</td>\n",
       "      <td>2.011</td>\n",
       "      <td>1.900</td>\n",
       "      <td>1.203</td>\n",
       "      <td>0.772</td>\n",
       "      <td>0.676</td>\n",
       "      <td>0.258</td>\n",
       "      <td>0.341</td>\n",
       "    </tr>\n",
       "    <tr>\n",
       "      <th>12</th>\n",
       "      <td>13</td>\n",
       "      <td>Ireland</td>\n",
       "      <td>7.041</td>\n",
       "      <td>7.121</td>\n",
       "      <td>6.961</td>\n",
       "      <td>1.743</td>\n",
       "      <td>2.129</td>\n",
       "      <td>1.166</td>\n",
       "      <td>0.779</td>\n",
       "      <td>0.627</td>\n",
       "      <td>0.190</td>\n",
       "      <td>0.408</td>\n",
       "    </tr>\n",
       "    <tr>\n",
       "      <th>13</th>\n",
       "      <td>14</td>\n",
       "      <td>Germany</td>\n",
       "      <td>7.034</td>\n",
       "      <td>7.122</td>\n",
       "      <td>6.947</td>\n",
       "      <td>2.142</td>\n",
       "      <td>1.924</td>\n",
       "      <td>1.088</td>\n",
       "      <td>0.776</td>\n",
       "      <td>0.585</td>\n",
       "      <td>0.163</td>\n",
       "      <td>0.358</td>\n",
       "    </tr>\n",
       "    <tr>\n",
       "      <th>14</th>\n",
       "      <td>15</td>\n",
       "      <td>Canada</td>\n",
       "      <td>7.025</td>\n",
       "      <td>7.107</td>\n",
       "      <td>6.943</td>\n",
       "      <td>1.924</td>\n",
       "      <td>1.886</td>\n",
       "      <td>1.188</td>\n",
       "      <td>0.783</td>\n",
       "      <td>0.659</td>\n",
       "      <td>0.217</td>\n",
       "      <td>0.368</td>\n",
       "    </tr>\n",
       "  </tbody>\n",
       "</table>\n",
       "</div>"
      ],
      "text/plain": [
       "    RANK      Country  Happiness score  Whisker-high  Whisker-low  \\\n",
       "0      1      Finland            7.821         7.886        7.756   \n",
       "1      2      Denmark            7.636         7.710        7.563   \n",
       "2      3      Iceland            7.557         7.651        7.464   \n",
       "3      4  Switzerland            7.512         7.586        7.437   \n",
       "4      5  Netherlands            7.415         7.471        7.359   \n",
       "5      6  Luxembourg*            7.404         7.501        7.307   \n",
       "6      7       Sweden            7.384         7.454        7.315   \n",
       "7      8       Norway            7.365         7.440        7.290   \n",
       "8      9       Israel            7.364         7.426        7.301   \n",
       "9     10  New Zealand            7.200         7.279        7.120   \n",
       "10    11      Austria            7.163         7.237        7.089   \n",
       "11    12    Australia            7.162         7.244        7.081   \n",
       "12    13      Ireland            7.041         7.121        6.961   \n",
       "13    14      Germany            7.034         7.122        6.947   \n",
       "14    15       Canada            7.025         7.107        6.943   \n",
       "\n",
       "    Dystopia (1.83) + residual  Explained by: GDP per capita  \\\n",
       "0                        2.518                         1.892   \n",
       "1                        2.226                         1.953   \n",
       "2                        2.320                         1.936   \n",
       "3                        2.153                         2.026   \n",
       "4                        2.137                         1.945   \n",
       "5                        2.042                         2.209   \n",
       "6                        2.003                         1.920   \n",
       "7                        1.925                         1.997   \n",
       "8                        2.634                         1.826   \n",
       "9                        1.954                         1.852   \n",
       "10                       2.148                         1.931   \n",
       "11                       2.011                         1.900   \n",
       "12                       1.743                         2.129   \n",
       "13                       2.142                         1.924   \n",
       "14                       1.924                         1.886   \n",
       "\n",
       "    Explained by: Social support  Explained by: Healthy life expectancy  \\\n",
       "0                          1.258                                  0.775   \n",
       "1                          1.243                                  0.777   \n",
       "2                          1.320                                  0.803   \n",
       "3                          1.226                                  0.822   \n",
       "4                          1.206                                  0.787   \n",
       "5                          1.155                                  0.790   \n",
       "6                          1.204                                  0.803   \n",
       "7                          1.239                                  0.786   \n",
       "8                          1.221                                  0.818   \n",
       "9                          1.235                                  0.752   \n",
       "10                         1.165                                  0.774   \n",
       "11                         1.203                                  0.772   \n",
       "12                         1.166                                  0.779   \n",
       "13                         1.088                                  0.776   \n",
       "14                         1.188                                  0.783   \n",
       "\n",
       "    Explained by: Freedom to make life choices  Explained by: Generosity  \\\n",
       "0                                        0.736                     0.109   \n",
       "1                                        0.719                     0.188   \n",
       "2                                        0.718                     0.270   \n",
       "3                                        0.677                     0.147   \n",
       "4                                        0.651                     0.271   \n",
       "5                                        0.700                     0.120   \n",
       "6                                        0.724                     0.218   \n",
       "7                                        0.728                     0.217   \n",
       "8                                        0.568                     0.155   \n",
       "9                                        0.680                     0.245   \n",
       "10                                       0.623                     0.193   \n",
       "11                                       0.676                     0.258   \n",
       "12                                       0.627                     0.190   \n",
       "13                                       0.585                     0.163   \n",
       "14                                       0.659                     0.217   \n",
       "\n",
       "    Explained by: Perceptions of corruption  \n",
       "0                                     0.534  \n",
       "1                                     0.532  \n",
       "2                                     0.191  \n",
       "3                                     0.461  \n",
       "4                                     0.419  \n",
       "5                                     0.388  \n",
       "6                                     0.512  \n",
       "7                                     0.474  \n",
       "8                                     0.143  \n",
       "9                                     0.483  \n",
       "10                                    0.329  \n",
       "11                                    0.341  \n",
       "12                                    0.408  \n",
       "13                                    0.358  \n",
       "14                                    0.368  "
      ]
     },
     "execution_count": 8,
     "metadata": {},
     "output_type": "execute_result"
    }
   ],
   "source": [
    "df.head(15)"
   ]
  },
  {
   "cell_type": "code",
   "execution_count": 9,
   "id": "21e3c7da",
   "metadata": {},
   "outputs": [],
   "source": [
    "#setting columns 1 as index \n",
    "df.index = df['RANK']"
   ]
  },
  {
   "cell_type": "code",
   "execution_count": 10,
   "id": "f70ba34a",
   "metadata": {},
   "outputs": [
    {
     "data": {
      "text/plain": [
       "False    146\n",
       "dtype: int64"
      ]
     },
     "execution_count": 10,
     "metadata": {},
     "output_type": "execute_result"
    }
   ],
   "source": [
    "# duplicates counts \n",
    "df.duplicated().value_counts()"
   ]
  },
  {
   "cell_type": "markdown",
   "id": "f2675ebb",
   "metadata": {},
   "source": [
    "'''What we found until now '''\n",
    "- 1 There are 146 rows and 12 columns.\n",
    "- 2 no null values persent \n",
    "- 3 no duplicates value persent in this dataset.\n",
    "- 4 finland ranks 1 and afganistan ranks last in this dataset ."
   ]
  },
  {
   "cell_type": "markdown",
   "id": "0bddace0",
   "metadata": {},
   "source": [
    "# 2 checking distribution "
   ]
  },
  {
   "cell_type": "code",
   "execution_count": 11,
   "id": "044feb21",
   "metadata": {},
   "outputs": [
    {
     "data": {
      "text/plain": [
       "Index(['RANK', 'Country', 'Happiness score', 'Whisker-high', 'Whisker-low',\n",
       "       'Dystopia (1.83) + residual', 'Explained by: GDP per capita',\n",
       "       'Explained by: Social support', 'Explained by: Healthy life expectancy',\n",
       "       'Explained by: Freedom to make life choices',\n",
       "       'Explained by: Generosity', 'Explained by: Perceptions of corruption'],\n",
       "      dtype='object')"
      ]
     },
     "execution_count": 11,
     "metadata": {},
     "output_type": "execute_result"
    }
   ],
   "source": [
    "df.columns"
   ]
  },
  {
   "cell_type": "code",
   "execution_count": 12,
   "id": "c27da3b3",
   "metadata": {},
   "outputs": [
    {
     "data": {
      "text/plain": [
       "<matplotlib.lines.Line2D at 0x16df5bc8040>"
      ]
     },
     "execution_count": 12,
     "metadata": {},
     "output_type": "execute_result"
    },
    {
     "data": {
      "image/png": "[encoded data removed]",
      "text/plain": [
       "<Figure size 360x360 with 1 Axes>"
      ]
     },
     "metadata": {
      "needs_background": "light"
     },
     "output_type": "display_data"
    }
   ],
   "source": [
    "#distribution of Happiness score \n",
    "sns.displot(df['Happiness score'],kde=True)\n",
    "\n",
    "plt.axvline(x = df['Happiness score'].mean(), color = 'red')\n",
    "\n",
    "plt.axvline(x = df['Happiness score'].median(), color = 'black')\n"
   ]
  },
  {
   "cell_type": "code",
   "execution_count": 13,
   "id": "9dea58b1",
   "metadata": {},
   "outputs": [
    {
     "data": {
      "text/plain": [
       "<matplotlib.lines.Line2D at 0x16df63cb340>"
      ]
     },
     "execution_count": 13,
     "metadata": {},
     "output_type": "execute_result"
    },
    {
     "data": {
      "image/png": "[encoded data removed]",
      "text/plain": [
       "<Figure size 360x360 with 1 Axes>"
      ]
     },
     "metadata": {
      "needs_background": "light"
     },
     "output_type": "display_data"
    }
   ],
   "source": [
    "#distribution of Whisker high\n",
    "sns.displot(df['Whisker-high'],kde=True)\n",
    "\n",
    "plt.axvline(x = df['Whisker-high'].mean(), color = 'red')\n",
    "\n",
    "plt.axvline(x = df['Whisker-high'].median(), color = 'black')"
   ]
  },
  {
   "cell_type": "code",
   "execution_count": 14,
   "id": "106ae4fc",
   "metadata": {},
   "outputs": [
    {
     "data": {
      "text/plain": [
       "<matplotlib.lines.Line2D at 0x16df6490730>"
      ]
     },
     "execution_count": 14,
     "metadata": {},
     "output_type": "execute_result"
    },
    {
     "data": {
      "image/png": "[encoded data removed]",
      "text/plain": [
       "<Figure size 360x360 with 1 Axes>"
      ]
     },
     "metadata": {
      "needs_background": "light"
     },
     "output_type": "display_data"
    }
   ],
   "source": [
    "#distribution of Whisker low\n",
    "sns.displot(df['Whisker-low'],kde=True)\n",
    "\n",
    "plt.axvline(x = df['Whisker-low'].mean(), color = 'red')\n",
    "\n",
    "plt.axvline(x = df['Whisker-low'].median(), color = 'black')"
   ]
  },
  {
   "cell_type": "code",
   "execution_count": 15,
   "id": "29ed2ba7",
   "metadata": {},
   "outputs": [
    {
     "data": {
      "text/plain": [
       "<matplotlib.lines.Line2D at 0x16df63da3d0>"
      ]
     },
     "execution_count": 15,
     "metadata": {},
     "output_type": "execute_result"
    },
    {
     "data": {
      "image/png": "[encoded data removed]",
      "text/plain": [
       "<Figure size 360x360 with 1 Axes>"
      ]
     },
     "metadata": {
      "needs_background": "light"
     },
     "output_type": "display_data"
    }
   ],
   "source": [
    "#distribution of Explained by: GDP per capita\n",
    "sns.displot(df['Explained by: GDP per capita'],kde=True)\n",
    "\n",
    "plt.axvline(x = df['Explained by: GDP per capita'].mean(), color = 'red')\n",
    "\n",
    "plt.axvline(x = df['Explained by: GDP per capita'].median(), color = 'black')"
   ]
  },
  {
   "cell_type": "code",
   "execution_count": 16,
   "id": "849a3996",
   "metadata": {},
   "outputs": [
    {
     "data": {
      "text/plain": [
       "<matplotlib.lines.Line2D at 0x16df6551220>"
      ]
     },
     "execution_count": 16,
     "metadata": {},
     "output_type": "execute_result"
    },
    {
     "data": {
      "image/png": "[encoded data removed]",
      "text/plain": [
       "<Figure size 360x360 with 1 Axes>"
      ]
     },
     "metadata": {
      "needs_background": "light"
     },
     "output_type": "display_data"
    }
   ],
   "source": [
    "# distribution of 'Explained by: Social support'\n",
    "\n",
    "sns.displot(df['Explained by: Social support'],kde=True)\n",
    "\n",
    "plt.axvline(x = df['Explained by: Social support'].mean(), color = 'red')\n",
    "\n",
    "plt.axvline(x = df['Explained by: Social support'].median(), color = 'black')"
   ]
  },
  {
   "cell_type": "code",
   "execution_count": 17,
   "id": "33e99724",
   "metadata": {},
   "outputs": [
    {
     "data": {
      "text/plain": [
       "<matplotlib.lines.Line2D at 0x16df65b8100>"
      ]
     },
     "execution_count": 17,
     "metadata": {},
     "output_type": "execute_result"
    },
    {
     "data": {
      "image/png": "[encoded data removed]",
      "text/plain": [
       "<Figure size 360x360 with 1 Axes>"
      ]
     },
     "metadata": {
      "needs_background": "light"
     },
     "output_type": "display_data"
    }
   ],
   "source": [
    "# distribution of  'Explained by: Freedom to make life choices'\n",
    "\n",
    "sns.displot(df[ 'Explained by: Freedom to make life choices'],kde=True)\n",
    "\n",
    "plt.axvline(x = df[ 'Explained by: Freedom to make life choices'].mean(), color = 'red')\n",
    "\n",
    "plt.axvline(x = df[ 'Explained by: Freedom to make life choices'].median(), color = 'black')"
   ]
  },
  {
   "cell_type": "code",
   "execution_count": 18,
   "id": "58a98a6c",
   "metadata": {},
   "outputs": [
    {
     "data": {
      "text/plain": [
       "<matplotlib.lines.Line2D at 0x16df6450d00>"
      ]
     },
     "execution_count": 18,
     "metadata": {},
     "output_type": "execute_result"
    },
    {
     "data": {
      "image/png": "[encoded data removed]",
      "text/plain": [
       "<Figure size 360x360 with 1 Axes>"
      ]
     },
     "metadata": {
      "needs_background": "light"
     },
     "output_type": "display_data"
    }
   ],
   "source": [
    "# distribution of  'Explained by: Perceptions of corruption'\n",
    "\n",
    "sns.displot(df[ 'Explained by: Perceptions of corruption'],kde=True)\n",
    "\n",
    "plt.axvline(x = df[ 'Explained by: Perceptions of corruption'].mean(), color = 'red')\n",
    "\n",
    "plt.axvline(x = df[ 'Explained by: Perceptions of corruption'].median(), color = 'black')"
   ]
  },
  {
   "cell_type": "markdown",
   "id": "fee5856c",
   "metadata": {},
   "source": [
    "# 3 Checking Outliners "
   ]
  },
  {
   "cell_type": "code",
   "execution_count": 19,
   "id": "f61e85ad",
   "metadata": {},
   "outputs": [
    {
     "data": {
      "text/plain": [
       "(array([ 1,  2,  3,  4,  5,  6,  7,  8,  9, 10]),\n",
       " [Text(1, 0, 'Happiness score'),\n",
       "  Text(2, 0, 'Whisker-high'),\n",
       "  Text(3, 0, 'Whisker-low'),\n",
       "  Text(4, 0, 'Dystopia (1.83) + residual'),\n",
       "  Text(5, 0, 'Explained by: GDP per capita'),\n",
       "  Text(6, 0, 'Explained by: Social support'),\n",
       "  Text(7, 0, 'Explained by: Healthy life expectancy'),\n",
       "  Text(8, 0, 'Explained by: Freedom to make life choices'),\n",
       "  Text(9, 0, 'Explained by: Generosity'),\n",
       "  Text(10, 0, 'Explained by: Perceptions of corruption')])"
      ]
     },
     "execution_count": 19,
     "metadata": {},
     "output_type": "execute_result"
    },
    {
     "data": {
      "image/png": "[encoded data removed]",
      "text/plain": [
       "<Figure size 720x720 with 1 Axes>"
      ]
     },
     "metadata": {
      "needs_background": "light"
     },
     "output_type": "display_data"
    }
   ],
   "source": [
    "Boxpolot_data = df.drop(columns = ['RANK'])\n",
    "\n",
    "plt.figure(figsize = (10,10))\n",
    "\n",
    "Boxpolot_data.boxplot()\n",
    "\n",
    "plt.xticks(rotation = 90)"
   ]
  },
  {
   "cell_type": "markdown",
   "id": "674e6b67",
   "metadata": {},
   "source": [
    "# what we can conclude till now \n",
    "- It looks like that mean is almost equal to mode, so we can say that this data is almost normally distributed.\n",
    "\n",
    "- There are only few outliners which are having a very less effect on the mean.\n",
    "\n"
   ]
  },
  {
   "cell_type": "markdown",
   "id": "ebea780b",
   "metadata": {},
   "source": [
    "# 4 Analysis"
   ]
  },
  {
   "cell_type": "code",
   "execution_count": 20,
   "id": "49ad6d9e",
   "metadata": {},
   "outputs": [
    {
     "data": {
      "text/html": [
       "<div>\n",
       "<style scoped>\n",
       "    .dataframe tbody tr th:only-of-type {\n",
       "        vertical-align: middle;\n",
       "    }\n",
       "\n",
       "    .dataframe tbody tr th {\n",
       "        vertical-align: top;\n",
       "    }\n",
       "\n",
       "    .dataframe thead th {\n",
       "        text-align: right;\n",
       "    }\n",
       "</style>\n",
       "<table border=\"1\" class=\"dataframe\">\n",
       "  <thead>\n",
       "    <tr style=\"text-align: right;\">\n",
       "      <th></th>\n",
       "      <th>RANK</th>\n",
       "      <th>Country</th>\n",
       "      <th>Happiness score</th>\n",
       "      <th>Whisker-high</th>\n",
       "      <th>Whisker-low</th>\n",
       "      <th>Dystopia (1.83) + residual</th>\n",
       "      <th>Explained by: GDP per capita</th>\n",
       "      <th>Explained by: Social support</th>\n",
       "      <th>Explained by: Healthy life expectancy</th>\n",
       "      <th>Explained by: Freedom to make life choices</th>\n",
       "      <th>Explained by: Generosity</th>\n",
       "      <th>Explained by: Perceptions of corruption</th>\n",
       "    </tr>\n",
       "    <tr>\n",
       "      <th>RANK</th>\n",
       "      <th></th>\n",
       "      <th></th>\n",
       "      <th></th>\n",
       "      <th></th>\n",
       "      <th></th>\n",
       "      <th></th>\n",
       "      <th></th>\n",
       "      <th></th>\n",
       "      <th></th>\n",
       "      <th></th>\n",
       "      <th></th>\n",
       "      <th></th>\n",
       "    </tr>\n",
       "  </thead>\n",
       "  <tbody>\n",
       "    <tr>\n",
       "      <th>1</th>\n",
       "      <td>1</td>\n",
       "      <td>Finland</td>\n",
       "      <td>7.821</td>\n",
       "      <td>7.886</td>\n",
       "      <td>7.756</td>\n",
       "      <td>2.518</td>\n",
       "      <td>1.892</td>\n",
       "      <td>1.258</td>\n",
       "      <td>0.775</td>\n",
       "      <td>0.736</td>\n",
       "      <td>0.109</td>\n",
       "      <td>0.534</td>\n",
       "    </tr>\n",
       "    <tr>\n",
       "      <th>2</th>\n",
       "      <td>2</td>\n",
       "      <td>Denmark</td>\n",
       "      <td>7.636</td>\n",
       "      <td>7.710</td>\n",
       "      <td>7.563</td>\n",
       "      <td>2.226</td>\n",
       "      <td>1.953</td>\n",
       "      <td>1.243</td>\n",
       "      <td>0.777</td>\n",
       "      <td>0.719</td>\n",
       "      <td>0.188</td>\n",
       "      <td>0.532</td>\n",
       "    </tr>\n",
       "    <tr>\n",
       "      <th>3</th>\n",
       "      <td>3</td>\n",
       "      <td>Iceland</td>\n",
       "      <td>7.557</td>\n",
       "      <td>7.651</td>\n",
       "      <td>7.464</td>\n",
       "      <td>2.320</td>\n",
       "      <td>1.936</td>\n",
       "      <td>1.320</td>\n",
       "      <td>0.803</td>\n",
       "      <td>0.718</td>\n",
       "      <td>0.270</td>\n",
       "      <td>0.191</td>\n",
       "    </tr>\n",
       "    <tr>\n",
       "      <th>4</th>\n",
       "      <td>4</td>\n",
       "      <td>Switzerland</td>\n",
       "      <td>7.512</td>\n",
       "      <td>7.586</td>\n",
       "      <td>7.437</td>\n",
       "      <td>2.153</td>\n",
       "      <td>2.026</td>\n",
       "      <td>1.226</td>\n",
       "      <td>0.822</td>\n",
       "      <td>0.677</td>\n",
       "      <td>0.147</td>\n",
       "      <td>0.461</td>\n",
       "    </tr>\n",
       "    <tr>\n",
       "      <th>5</th>\n",
       "      <td>5</td>\n",
       "      <td>Netherlands</td>\n",
       "      <td>7.415</td>\n",
       "      <td>7.471</td>\n",
       "      <td>7.359</td>\n",
       "      <td>2.137</td>\n",
       "      <td>1.945</td>\n",
       "      <td>1.206</td>\n",
       "      <td>0.787</td>\n",
       "      <td>0.651</td>\n",
       "      <td>0.271</td>\n",
       "      <td>0.419</td>\n",
       "    </tr>\n",
       "    <tr>\n",
       "      <th>6</th>\n",
       "      <td>6</td>\n",
       "      <td>Luxembourg*</td>\n",
       "      <td>7.404</td>\n",
       "      <td>7.501</td>\n",
       "      <td>7.307</td>\n",
       "      <td>2.042</td>\n",
       "      <td>2.209</td>\n",
       "      <td>1.155</td>\n",
       "      <td>0.790</td>\n",
       "      <td>0.700</td>\n",
       "      <td>0.120</td>\n",
       "      <td>0.388</td>\n",
       "    </tr>\n",
       "    <tr>\n",
       "      <th>7</th>\n",
       "      <td>7</td>\n",
       "      <td>Sweden</td>\n",
       "      <td>7.384</td>\n",
       "      <td>7.454</td>\n",
       "      <td>7.315</td>\n",
       "      <td>2.003</td>\n",
       "      <td>1.920</td>\n",
       "      <td>1.204</td>\n",
       "      <td>0.803</td>\n",
       "      <td>0.724</td>\n",
       "      <td>0.218</td>\n",
       "      <td>0.512</td>\n",
       "    </tr>\n",
       "    <tr>\n",
       "      <th>8</th>\n",
       "      <td>8</td>\n",
       "      <td>Norway</td>\n",
       "      <td>7.365</td>\n",
       "      <td>7.440</td>\n",
       "      <td>7.290</td>\n",
       "      <td>1.925</td>\n",
       "      <td>1.997</td>\n",
       "      <td>1.239</td>\n",
       "      <td>0.786</td>\n",
       "      <td>0.728</td>\n",
       "      <td>0.217</td>\n",
       "      <td>0.474</td>\n",
       "    </tr>\n",
       "    <tr>\n",
       "      <th>9</th>\n",
       "      <td>9</td>\n",
       "      <td>Israel</td>\n",
       "      <td>7.364</td>\n",
       "      <td>7.426</td>\n",
       "      <td>7.301</td>\n",
       "      <td>2.634</td>\n",
       "      <td>1.826</td>\n",
       "      <td>1.221</td>\n",
       "      <td>0.818</td>\n",
       "      <td>0.568</td>\n",
       "      <td>0.155</td>\n",
       "      <td>0.143</td>\n",
       "    </tr>\n",
       "    <tr>\n",
       "      <th>10</th>\n",
       "      <td>10</td>\n",
       "      <td>New Zealand</td>\n",
       "      <td>7.200</td>\n",
       "      <td>7.279</td>\n",
       "      <td>7.120</td>\n",
       "      <td>1.954</td>\n",
       "      <td>1.852</td>\n",
       "      <td>1.235</td>\n",
       "      <td>0.752</td>\n",
       "      <td>0.680</td>\n",
       "      <td>0.245</td>\n",
       "      <td>0.483</td>\n",
       "    </tr>\n",
       "    <tr>\n",
       "      <th>11</th>\n",
       "      <td>11</td>\n",
       "      <td>Austria</td>\n",
       "      <td>7.163</td>\n",
       "      <td>7.237</td>\n",
       "      <td>7.089</td>\n",
       "      <td>2.148</td>\n",
       "      <td>1.931</td>\n",
       "      <td>1.165</td>\n",
       "      <td>0.774</td>\n",
       "      <td>0.623</td>\n",
       "      <td>0.193</td>\n",
       "      <td>0.329</td>\n",
       "    </tr>\n",
       "    <tr>\n",
       "      <th>12</th>\n",
       "      <td>12</td>\n",
       "      <td>Australia</td>\n",
       "      <td>7.162</td>\n",
       "      <td>7.244</td>\n",
       "      <td>7.081</td>\n",
       "      <td>2.011</td>\n",
       "      <td>1.900</td>\n",
       "      <td>1.203</td>\n",
       "      <td>0.772</td>\n",
       "      <td>0.676</td>\n",
       "      <td>0.258</td>\n",
       "      <td>0.341</td>\n",
       "    </tr>\n",
       "    <tr>\n",
       "      <th>13</th>\n",
       "      <td>13</td>\n",
       "      <td>Ireland</td>\n",
       "      <td>7.041</td>\n",
       "      <td>7.121</td>\n",
       "      <td>6.961</td>\n",
       "      <td>1.743</td>\n",
       "      <td>2.129</td>\n",
       "      <td>1.166</td>\n",
       "      <td>0.779</td>\n",
       "      <td>0.627</td>\n",
       "      <td>0.190</td>\n",
       "      <td>0.408</td>\n",
       "    </tr>\n",
       "    <tr>\n",
       "      <th>14</th>\n",
       "      <td>14</td>\n",
       "      <td>Germany</td>\n",
       "      <td>7.034</td>\n",
       "      <td>7.122</td>\n",
       "      <td>6.947</td>\n",
       "      <td>2.142</td>\n",
       "      <td>1.924</td>\n",
       "      <td>1.088</td>\n",
       "      <td>0.776</td>\n",
       "      <td>0.585</td>\n",
       "      <td>0.163</td>\n",
       "      <td>0.358</td>\n",
       "    </tr>\n",
       "    <tr>\n",
       "      <th>15</th>\n",
       "      <td>15</td>\n",
       "      <td>Canada</td>\n",
       "      <td>7.025</td>\n",
       "      <td>7.107</td>\n",
       "      <td>6.943</td>\n",
       "      <td>1.924</td>\n",
       "      <td>1.886</td>\n",
       "      <td>1.188</td>\n",
       "      <td>0.783</td>\n",
       "      <td>0.659</td>\n",
       "      <td>0.217</td>\n",
       "      <td>0.368</td>\n",
       "    </tr>\n",
       "  </tbody>\n",
       "</table>\n",
       "</div>"
      ],
      "text/plain": [
       "      RANK      Country  Happiness score  Whisker-high  Whisker-low  \\\n",
       "RANK                                                                  \n",
       "1        1      Finland            7.821         7.886        7.756   \n",
       "2        2      Denmark            7.636         7.710        7.563   \n",
       "3        3      Iceland            7.557         7.651        7.464   \n",
       "4        4  Switzerland            7.512         7.586        7.437   \n",
       "5        5  Netherlands            7.415         7.471        7.359   \n",
       "6        6  Luxembourg*            7.404         7.501        7.307   \n",
       "7        7       Sweden            7.384         7.454        7.315   \n",
       "8        8       Norway            7.365         7.440        7.290   \n",
       "9        9       Israel            7.364         7.426        7.301   \n",
       "10      10  New Zealand            7.200         7.279        7.120   \n",
       "11      11      Austria            7.163         7.237        7.089   \n",
       "12      12    Australia            7.162         7.244        7.081   \n",
       "13      13      Ireland            7.041         7.121        6.961   \n",
       "14      14      Germany            7.034         7.122        6.947   \n",
       "15      15       Canada            7.025         7.107        6.943   \n",
       "\n",
       "      Dystopia (1.83) + residual  Explained by: GDP per capita  \\\n",
       "RANK                                                             \n",
       "1                          2.518                         1.892   \n",
       "2                          2.226                         1.953   \n",
       "3                          2.320                         1.936   \n",
       "4                          2.153                         2.026   \n",
       "5                          2.137                         1.945   \n",
       "6                          2.042                         2.209   \n",
       "7                          2.003                         1.920   \n",
       "8                          1.925                         1.997   \n",
       "9                          2.634                         1.826   \n",
       "10                         1.954                         1.852   \n",
       "11                         2.148                         1.931   \n",
       "12                         2.011                         1.900   \n",
       "13                         1.743                         2.129   \n",
       "14                         2.142                         1.924   \n",
       "15                         1.924                         1.886   \n",
       "\n",
       "      Explained by: Social support  Explained by: Healthy life expectancy  \\\n",
       "RANK                                                                        \n",
       "1                            1.258                                  0.775   \n",
       "2                            1.243                                  0.777   \n",
       "3                            1.320                                  0.803   \n",
       "4                            1.226                                  0.822   \n",
       "5                            1.206                                  0.787   \n",
       "6                            1.155                                  0.790   \n",
       "7                            1.204                                  0.803   \n",
       "8                            1.239                                  0.786   \n",
       "9                            1.221                                  0.818   \n",
       "10                           1.235                                  0.752   \n",
       "11                           1.165                                  0.774   \n",
       "12                           1.203                                  0.772   \n",
       "13                           1.166                                  0.779   \n",
       "14                           1.088                                  0.776   \n",
       "15                           1.188                                  0.783   \n",
       "\n",
       "      Explained by: Freedom to make life choices  Explained by: Generosity  \\\n",
       "RANK                                                                         \n",
       "1                                          0.736                     0.109   \n",
       "2                                          0.719                     0.188   \n",
       "3                                          0.718                     0.270   \n",
       "4                                          0.677                     0.147   \n",
       "5                                          0.651                     0.271   \n",
       "6                                          0.700                     0.120   \n",
       "7                                          0.724                     0.218   \n",
       "8                                          0.728                     0.217   \n",
       "9                                          0.568                     0.155   \n",
       "10                                         0.680                     0.245   \n",
       "11                                         0.623                     0.193   \n",
       "12                                         0.676                     0.258   \n",
       "13                                         0.627                     0.190   \n",
       "14                                         0.585                     0.163   \n",
       "15                                         0.659                     0.217   \n",
       "\n",
       "      Explained by: Perceptions of corruption  \n",
       "RANK                                           \n",
       "1                                       0.534  \n",
       "2                                       0.532  \n",
       "3                                       0.191  \n",
       "4                                       0.461  \n",
       "5                                       0.419  \n",
       "6                                       0.388  \n",
       "7                                       0.512  \n",
       "8                                       0.474  \n",
       "9                                       0.143  \n",
       "10                                      0.483  \n",
       "11                                      0.329  \n",
       "12                                      0.341  \n",
       "13                                      0.408  \n",
       "14                                      0.358  \n",
       "15                                      0.368  "
      ]
     },
     "execution_count": 20,
     "metadata": {},
     "output_type": "execute_result"
    }
   ],
   "source": [
    "# top 15 Happiest countries\n",
    "\n",
    "Top_15 = df.head(15)\n",
    "Top_15"
   ]
  },
  {
   "cell_type": "code",
   "execution_count": 21,
   "id": "0ebad66a",
   "metadata": {},
   "outputs": [
    {
     "data": {
      "text/plain": [
       "<Figure size 1440x1440 with 0 Axes>"
      ]
     },
     "execution_count": 21,
     "metadata": {},
     "output_type": "execute_result"
    },
    {
     "data": {
      "image/png": "[encoded data removed]",
      "text/plain": [
       "<Figure size 432x288 with 1 Axes>"
      ]
     },
     "metadata": {
      "needs_background": "light"
     },
     "output_type": "display_data"
    },
    {
     "data": {
      "text/plain": [
       "<Figure size 1440x1440 with 0 Axes>"
      ]
     },
     "metadata": {},
     "output_type": "display_data"
    }
   ],
   "source": [
    "plt.bar(Top_15['Country'],Top_15['Happiness score'])\n",
    "\n",
    "plt.xticks(rotation = 90)  #for label rotation \n",
    "\n",
    "plt.xlabel(\"Countries\")\n",
    "plt.ylabel(\"Happiness score\")\n",
    "\n",
    "plt.figure(figsize= (20,20))\n",
    "\n",
    "\n",
    "\n"
   ]
  },
  {
   "cell_type": "code",
   "execution_count": 22,
   "id": "a4c286f6",
   "metadata": {},
   "outputs": [
    {
     "data": {
      "text/plain": [
       "([0, 1, 2, 3, 4, 5, 6, 7, 8, 9, 10, 11, 12, 13, 14],\n",
       " [Text(0, 0, ''),\n",
       "  Text(0, 0, ''),\n",
       "  Text(0, 0, ''),\n",
       "  Text(0, 0, ''),\n",
       "  Text(0, 0, ''),\n",
       "  Text(0, 0, ''),\n",
       "  Text(0, 0, ''),\n",
       "  Text(0, 0, ''),\n",
       "  Text(0, 0, ''),\n",
       "  Text(0, 0, ''),\n",
       "  Text(0, 0, ''),\n",
       "  Text(0, 0, ''),\n",
       "  Text(0, 0, ''),\n",
       "  Text(0, 0, ''),\n",
       "  Text(0, 0, '')])"
      ]
     },
     "execution_count": 22,
     "metadata": {},
     "output_type": "execute_result"
    },
    {
     "data": {
      "image/png": "[encoded data removed]",
      "text/plain": [
       "<Figure size 720x360 with 1 Axes>"
      ]
     },
     "metadata": {
      "needs_background": "light"
     },
     "output_type": "display_data"
    }
   ],
   "source": [
    "plt.figure(figsize = (10,5))\n",
    "\n",
    "plt.bar(Top_15['Country'],Top_15['Explained by: GDP per capita'])\n",
    "\n",
    "plt.xlabel('Countries')\n",
    "plt.ylabel('Explained by: GDP per capita')\n",
    "\n",
    "plt.xticks(rotation = 90)"
   ]
  },
  {
   "cell_type": "code",
   "execution_count": 23,
   "id": "1742764e",
   "metadata": {},
   "outputs": [
    {
     "data": {
      "text/plain": [
       "([0, 1, 2, 3, 4, 5, 6, 7, 8, 9, 10, 11, 12, 13, 14],\n",
       " [Text(0, 0, ''),\n",
       "  Text(0, 0, ''),\n",
       "  Text(0, 0, ''),\n",
       "  Text(0, 0, ''),\n",
       "  Text(0, 0, ''),\n",
       "  Text(0, 0, ''),\n",
       "  Text(0, 0, ''),\n",
       "  Text(0, 0, ''),\n",
       "  Text(0, 0, ''),\n",
       "  Text(0, 0, ''),\n",
       "  Text(0, 0, ''),\n",
       "  Text(0, 0, ''),\n",
       "  Text(0, 0, ''),\n",
       "  Text(0, 0, ''),\n",
       "  Text(0, 0, '')])"
      ]
     },
     "execution_count": 23,
     "metadata": {},
     "output_type": "execute_result"
    },
    {
     "data": {
      "image/png": "[encoded data removed]",
      "text/plain": [
       "<Figure size 720x360 with 1 Axes>"
      ]
     },
     "metadata": {
      "needs_background": "light"
     },
     "output_type": "display_data"
    }
   ],
   "source": [
    "plt.figure(figsize = (10,5))\n",
    "\n",
    "plt.bar(Top_15['Country'],Top_15['Explained by: Social support'])\n",
    "\n",
    "plt.xlabel('Countries')\n",
    "plt.ylabel('Explained by: Social support')\n",
    "\n",
    "plt.xticks(rotation = 90)"
   ]
  },
  {
   "cell_type": "code",
   "execution_count": 24,
   "id": "5493bf94",
   "metadata": {},
   "outputs": [
    {
     "data": {
      "text/plain": [
       "([0, 1, 2, 3, 4, 5, 6, 7, 8, 9, 10, 11, 12, 13, 14],\n",
       " [Text(0, 0, ''),\n",
       "  Text(0, 0, ''),\n",
       "  Text(0, 0, ''),\n",
       "  Text(0, 0, ''),\n",
       "  Text(0, 0, ''),\n",
       "  Text(0, 0, ''),\n",
       "  Text(0, 0, ''),\n",
       "  Text(0, 0, ''),\n",
       "  Text(0, 0, ''),\n",
       "  Text(0, 0, ''),\n",
       "  Text(0, 0, ''),\n",
       "  Text(0, 0, ''),\n",
       "  Text(0, 0, ''),\n",
       "  Text(0, 0, ''),\n",
       "  Text(0, 0, '')])"
      ]
     },
     "execution_count": 24,
     "metadata": {},
     "output_type": "execute_result"
    },
    {
     "data": {
      "image/png": "[encoded data removed]",
      "text/plain": [
       "<Figure size 720x360 with 1 Axes>"
      ]
     },
     "metadata": {
      "needs_background": "light"
     },
     "output_type": "display_data"
    }
   ],
   "source": [
    "plt.figure(figsize = (10,5))\n",
    "\n",
    "plt.bar(Top_15['Country'],Top_15['Explained by: Healthy life expectancy'])\n",
    "\n",
    "plt.xlabel('Countries')\n",
    "plt.ylabel('Explained by: Healthy life expectancy')\n",
    "\n",
    "plt.xticks(rotation = 90)"
   ]
  },
  {
   "cell_type": "code",
   "execution_count": 25,
   "id": "910f504c",
   "metadata": {},
   "outputs": [
    {
     "data": {
      "text/plain": [
       "([0, 1, 2, 3, 4, 5, 6, 7, 8, 9, 10, 11, 12, 13, 14],\n",
       " [Text(0, 0, ''),\n",
       "  Text(0, 0, ''),\n",
       "  Text(0, 0, ''),\n",
       "  Text(0, 0, ''),\n",
       "  Text(0, 0, ''),\n",
       "  Text(0, 0, ''),\n",
       "  Text(0, 0, ''),\n",
       "  Text(0, 0, ''),\n",
       "  Text(0, 0, ''),\n",
       "  Text(0, 0, ''),\n",
       "  Text(0, 0, ''),\n",
       "  Text(0, 0, ''),\n",
       "  Text(0, 0, ''),\n",
       "  Text(0, 0, ''),\n",
       "  Text(0, 0, '')])"
      ]
     },
     "execution_count": 25,
     "metadata": {},
     "output_type": "execute_result"
    },
    {
     "data": {
      "image/png": "[encoded data removed]",
      "text/plain": [
       "<Figure size 720x360 with 1 Axes>"
      ]
     },
     "metadata": {
      "needs_background": "light"
     },
     "output_type": "display_data"
    }
   ],
   "source": [
    "plt.figure(figsize = (10,5))\n",
    "\n",
    "plt.bar(Top_15['Country'],Top_15['Explained by: Freedom to make life choices'])\n",
    "\n",
    "plt.xlabel('Countries')\n",
    "plt.ylabel('Explained by: Freedom to make life choices')\n",
    "\n",
    "plt.xticks(rotation = 90)"
   ]
  },
  {
   "cell_type": "code",
   "execution_count": 26,
   "id": "430e9098",
   "metadata": {},
   "outputs": [
    {
     "data": {
      "text/plain": [
       "([0, 1, 2, 3, 4, 5, 6, 7, 8, 9, 10, 11, 12, 13, 14],\n",
       " [Text(0, 0, ''),\n",
       "  Text(0, 0, ''),\n",
       "  Text(0, 0, ''),\n",
       "  Text(0, 0, ''),\n",
       "  Text(0, 0, ''),\n",
       "  Text(0, 0, ''),\n",
       "  Text(0, 0, ''),\n",
       "  Text(0, 0, ''),\n",
       "  Text(0, 0, ''),\n",
       "  Text(0, 0, ''),\n",
       "  Text(0, 0, ''),\n",
       "  Text(0, 0, ''),\n",
       "  Text(0, 0, ''),\n",
       "  Text(0, 0, ''),\n",
       "  Text(0, 0, '')])"
      ]
     },
     "execution_count": 26,
     "metadata": {},
     "output_type": "execute_result"
    },
    {
     "data": {
      "image/png": "[encoded data removed]",
      "text/plain": [
       "<Figure size 720x360 with 1 Axes>"
      ]
     },
     "metadata": {
      "needs_background": "light"
     },
     "output_type": "display_data"
    }
   ],
   "source": [
    "plt.figure(figsize = (10,5))\n",
    "\n",
    "plt.bar(Top_15['Country'],Top_15['Explained by: Generosity'])\n",
    "\n",
    "plt.xlabel('Countries')\n",
    "plt.ylabel('Explained by: Generosity')\n",
    "\n",
    "plt.xticks(rotation = 90)"
   ]
  },
  {
   "cell_type": "code",
   "execution_count": 27,
   "id": "0aab680a",
   "metadata": {},
   "outputs": [
    {
     "data": {
      "text/plain": [
       "([0, 1, 2, 3, 4, 5, 6, 7, 8, 9, 10, 11, 12, 13, 14],\n",
       " [Text(0, 0, ''),\n",
       "  Text(0, 0, ''),\n",
       "  Text(0, 0, ''),\n",
       "  Text(0, 0, ''),\n",
       "  Text(0, 0, ''),\n",
       "  Text(0, 0, ''),\n",
       "  Text(0, 0, ''),\n",
       "  Text(0, 0, ''),\n",
       "  Text(0, 0, ''),\n",
       "  Text(0, 0, ''),\n",
       "  Text(0, 0, ''),\n",
       "  Text(0, 0, ''),\n",
       "  Text(0, 0, ''),\n",
       "  Text(0, 0, ''),\n",
       "  Text(0, 0, '')])"
      ]
     },
     "execution_count": 27,
     "metadata": {},
     "output_type": "execute_result"
    },
    {
     "data": {
      "image/png": "[encoded data removed]",
      "text/plain": [
       "<Figure size 720x360 with 1 Axes>"
      ]
     },
     "metadata": {
      "needs_background": "light"
     },
     "output_type": "display_data"
    }
   ],
   "source": [
    "plt.figure(figsize = (10,5))\n",
    "\n",
    "plt.bar(Top_15['Country'],Top_15['Explained by: Perceptions of corruption'])\n",
    "\n",
    "plt.xlabel('Countries')\n",
    "plt.ylabel('Explained by: Perceptions of corruption')\n",
    "\n",
    "plt.xticks(rotation = 90)"
   ]
  },
  {
   "cell_type": "raw",
   "id": "671de666",
   "metadata": {},
   "source": [
    "'''5. why are top countries on top?'''"
   ]
  },
  {
   "cell_type": "markdown",
   "id": "bfaf2790",
   "metadata": {},
   "source": [
    "- beacause these are top in  : \n",
    "                                  - good social support.\n",
    "                                       - people get freedom to make life choices\n",
    "                                        - and Healthy life expectancy is also good in these countries .\n",
    "                                                       "
   ]
  },
  {
   "cell_type": "markdown",
   "id": "9e256d88",
   "metadata": {},
   "source": [
    "# what we can conclude till now \n",
    "- we see there why are top countries on top .\n",
    "- they have good rate in every aspect Related to happiness score .\n",
    "- \n"
   ]
  },
  {
   "cell_type": "code",
   "execution_count": 28,
   "id": "d1567bfa",
   "metadata": {
    "scrolled": false
   },
   "outputs": [
    {
     "data": {
      "text/html": [
       "<div>\n",
       "<style scoped>\n",
       "    .dataframe tbody tr th:only-of-type {\n",
       "        vertical-align: middle;\n",
       "    }\n",
       "\n",
       "    .dataframe tbody tr th {\n",
       "        vertical-align: top;\n",
       "    }\n",
       "\n",
       "    .dataframe thead th {\n",
       "        text-align: right;\n",
       "    }\n",
       "</style>\n",
       "<table border=\"1\" class=\"dataframe\">\n",
       "  <thead>\n",
       "    <tr style=\"text-align: right;\">\n",
       "      <th></th>\n",
       "      <th>RANK</th>\n",
       "      <th>Country</th>\n",
       "      <th>Happiness score</th>\n",
       "      <th>Whisker-high</th>\n",
       "      <th>Whisker-low</th>\n",
       "      <th>Dystopia (1.83) + residual</th>\n",
       "      <th>Explained by: GDP per capita</th>\n",
       "      <th>Explained by: Social support</th>\n",
       "      <th>Explained by: Healthy life expectancy</th>\n",
       "      <th>Explained by: Freedom to make life choices</th>\n",
       "      <th>Explained by: Generosity</th>\n",
       "      <th>Explained by: Perceptions of corruption</th>\n",
       "    </tr>\n",
       "    <tr>\n",
       "      <th>RANK</th>\n",
       "      <th></th>\n",
       "      <th></th>\n",
       "      <th></th>\n",
       "      <th></th>\n",
       "      <th></th>\n",
       "      <th></th>\n",
       "      <th></th>\n",
       "      <th></th>\n",
       "      <th></th>\n",
       "      <th></th>\n",
       "      <th></th>\n",
       "      <th></th>\n",
       "    </tr>\n",
       "  </thead>\n",
       "  <tbody>\n",
       "    <tr>\n",
       "      <th>132</th>\n",
       "      <td>132</td>\n",
       "      <td>Yemen*</td>\n",
       "      <td>4.197</td>\n",
       "      <td>4.384</td>\n",
       "      <td>4.010</td>\n",
       "      <td>1.561</td>\n",
       "      <td>0.691</td>\n",
       "      <td>1.043</td>\n",
       "      <td>0.384</td>\n",
       "      <td>0.330</td>\n",
       "      <td>0.090</td>\n",
       "      <td>0.098</td>\n",
       "    </tr>\n",
       "    <tr>\n",
       "      <th>133</th>\n",
       "      <td>133</td>\n",
       "      <td>Mauritania*</td>\n",
       "      <td>4.153</td>\n",
       "      <td>4.356</td>\n",
       "      <td>3.950</td>\n",
       "      <td>1.207</td>\n",
       "      <td>1.100</td>\n",
       "      <td>0.865</td>\n",
       "      <td>0.450</td>\n",
       "      <td>0.304</td>\n",
       "      <td>0.088</td>\n",
       "      <td>0.138</td>\n",
       "    </tr>\n",
       "    <tr>\n",
       "      <th>134</th>\n",
       "      <td>134</td>\n",
       "      <td>Jordan</td>\n",
       "      <td>4.152</td>\n",
       "      <td>4.276</td>\n",
       "      <td>4.029</td>\n",
       "      <td>0.695</td>\n",
       "      <td>1.324</td>\n",
       "      <td>0.724</td>\n",
       "      <td>0.675</td>\n",
       "      <td>0.476</td>\n",
       "      <td>0.058</td>\n",
       "      <td>0.200</td>\n",
       "    </tr>\n",
       "    <tr>\n",
       "      <th>135</th>\n",
       "      <td>135</td>\n",
       "      <td>Togo</td>\n",
       "      <td>4.112</td>\n",
       "      <td>4.272</td>\n",
       "      <td>3.953</td>\n",
       "      <td>2.061</td>\n",
       "      <td>0.771</td>\n",
       "      <td>0.322</td>\n",
       "      <td>0.360</td>\n",
       "      <td>0.292</td>\n",
       "      <td>0.174</td>\n",
       "      <td>0.132</td>\n",
       "    </tr>\n",
       "    <tr>\n",
       "      <th>136</th>\n",
       "      <td>136</td>\n",
       "      <td>India</td>\n",
       "      <td>3.777</td>\n",
       "      <td>3.828</td>\n",
       "      <td>3.726</td>\n",
       "      <td>0.795</td>\n",
       "      <td>1.167</td>\n",
       "      <td>0.376</td>\n",
       "      <td>0.471</td>\n",
       "      <td>0.647</td>\n",
       "      <td>0.198</td>\n",
       "      <td>0.123</td>\n",
       "    </tr>\n",
       "    <tr>\n",
       "      <th>137</th>\n",
       "      <td>137</td>\n",
       "      <td>Zambia</td>\n",
       "      <td>3.760</td>\n",
       "      <td>3.902</td>\n",
       "      <td>3.618</td>\n",
       "      <td>1.135</td>\n",
       "      <td>0.930</td>\n",
       "      <td>0.577</td>\n",
       "      <td>0.306</td>\n",
       "      <td>0.525</td>\n",
       "      <td>0.203</td>\n",
       "      <td>0.083</td>\n",
       "    </tr>\n",
       "    <tr>\n",
       "      <th>138</th>\n",
       "      <td>138</td>\n",
       "      <td>Malawi</td>\n",
       "      <td>3.750</td>\n",
       "      <td>3.941</td>\n",
       "      <td>3.560</td>\n",
       "      <td>1.661</td>\n",
       "      <td>0.648</td>\n",
       "      <td>0.279</td>\n",
       "      <td>0.388</td>\n",
       "      <td>0.477</td>\n",
       "      <td>0.140</td>\n",
       "      <td>0.157</td>\n",
       "    </tr>\n",
       "    <tr>\n",
       "      <th>139</th>\n",
       "      <td>139</td>\n",
       "      <td>Tanzania</td>\n",
       "      <td>3.702</td>\n",
       "      <td>3.847</td>\n",
       "      <td>3.558</td>\n",
       "      <td>0.735</td>\n",
       "      <td>0.848</td>\n",
       "      <td>0.597</td>\n",
       "      <td>0.425</td>\n",
       "      <td>0.578</td>\n",
       "      <td>0.248</td>\n",
       "      <td>0.270</td>\n",
       "    </tr>\n",
       "    <tr>\n",
       "      <th>140</th>\n",
       "      <td>140</td>\n",
       "      <td>Sierra Leone</td>\n",
       "      <td>3.574</td>\n",
       "      <td>3.732</td>\n",
       "      <td>3.416</td>\n",
       "      <td>1.556</td>\n",
       "      <td>0.686</td>\n",
       "      <td>0.416</td>\n",
       "      <td>0.273</td>\n",
       "      <td>0.387</td>\n",
       "      <td>0.202</td>\n",
       "      <td>0.055</td>\n",
       "    </tr>\n",
       "    <tr>\n",
       "      <th>141</th>\n",
       "      <td>141</td>\n",
       "      <td>Lesotho*</td>\n",
       "      <td>3.512</td>\n",
       "      <td>3.748</td>\n",
       "      <td>3.276</td>\n",
       "      <td>1.312</td>\n",
       "      <td>0.839</td>\n",
       "      <td>0.848</td>\n",
       "      <td>0.000</td>\n",
       "      <td>0.419</td>\n",
       "      <td>0.076</td>\n",
       "      <td>0.018</td>\n",
       "    </tr>\n",
       "    <tr>\n",
       "      <th>142</th>\n",
       "      <td>142</td>\n",
       "      <td>Botswana*</td>\n",
       "      <td>3.471</td>\n",
       "      <td>3.667</td>\n",
       "      <td>3.275</td>\n",
       "      <td>0.187</td>\n",
       "      <td>1.503</td>\n",
       "      <td>0.815</td>\n",
       "      <td>0.280</td>\n",
       "      <td>0.571</td>\n",
       "      <td>0.012</td>\n",
       "      <td>0.102</td>\n",
       "    </tr>\n",
       "    <tr>\n",
       "      <th>143</th>\n",
       "      <td>143</td>\n",
       "      <td>Rwanda*</td>\n",
       "      <td>3.268</td>\n",
       "      <td>3.462</td>\n",
       "      <td>3.074</td>\n",
       "      <td>0.536</td>\n",
       "      <td>0.785</td>\n",
       "      <td>0.133</td>\n",
       "      <td>0.462</td>\n",
       "      <td>0.621</td>\n",
       "      <td>0.187</td>\n",
       "      <td>0.544</td>\n",
       "    </tr>\n",
       "    <tr>\n",
       "      <th>144</th>\n",
       "      <td>144</td>\n",
       "      <td>Zimbabwe</td>\n",
       "      <td>2.995</td>\n",
       "      <td>3.110</td>\n",
       "      <td>2.880</td>\n",
       "      <td>0.548</td>\n",
       "      <td>0.947</td>\n",
       "      <td>0.690</td>\n",
       "      <td>0.270</td>\n",
       "      <td>0.329</td>\n",
       "      <td>0.106</td>\n",
       "      <td>0.105</td>\n",
       "    </tr>\n",
       "    <tr>\n",
       "      <th>145</th>\n",
       "      <td>145</td>\n",
       "      <td>Lebanon</td>\n",
       "      <td>2.955</td>\n",
       "      <td>3.049</td>\n",
       "      <td>2.862</td>\n",
       "      <td>0.216</td>\n",
       "      <td>1.392</td>\n",
       "      <td>0.498</td>\n",
       "      <td>0.631</td>\n",
       "      <td>0.103</td>\n",
       "      <td>0.082</td>\n",
       "      <td>0.034</td>\n",
       "    </tr>\n",
       "    <tr>\n",
       "      <th>146</th>\n",
       "      <td>146</td>\n",
       "      <td>Afghanistan</td>\n",
       "      <td>2.404</td>\n",
       "      <td>2.469</td>\n",
       "      <td>2.339</td>\n",
       "      <td>1.263</td>\n",
       "      <td>0.758</td>\n",
       "      <td>0.000</td>\n",
       "      <td>0.289</td>\n",
       "      <td>0.000</td>\n",
       "      <td>0.089</td>\n",
       "      <td>0.005</td>\n",
       "    </tr>\n",
       "  </tbody>\n",
       "</table>\n",
       "</div>"
      ],
      "text/plain": [
       "      RANK       Country  Happiness score  Whisker-high  Whisker-low  \\\n",
       "RANK                                                                   \n",
       "132    132        Yemen*            4.197         4.384        4.010   \n",
       "133    133   Mauritania*            4.153         4.356        3.950   \n",
       "134    134        Jordan            4.152         4.276        4.029   \n",
       "135    135          Togo            4.112         4.272        3.953   \n",
       "136    136         India            3.777         3.828        3.726   \n",
       "137    137        Zambia            3.760         3.902        3.618   \n",
       "138    138        Malawi            3.750         3.941        3.560   \n",
       "139    139      Tanzania            3.702         3.847        3.558   \n",
       "140    140  Sierra Leone            3.574         3.732        3.416   \n",
       "141    141      Lesotho*            3.512         3.748        3.276   \n",
       "142    142     Botswana*            3.471         3.667        3.275   \n",
       "143    143       Rwanda*            3.268         3.462        3.074   \n",
       "144    144      Zimbabwe            2.995         3.110        2.880   \n",
       "145    145       Lebanon            2.955         3.049        2.862   \n",
       "146    146   Afghanistan            2.404         2.469        2.339   \n",
       "\n",
       "      Dystopia (1.83) + residual  Explained by: GDP per capita  \\\n",
       "RANK                                                             \n",
       "132                        1.561                         0.691   \n",
       "133                        1.207                         1.100   \n",
       "134                        0.695                         1.324   \n",
       "135                        2.061                         0.771   \n",
       "136                        0.795                         1.167   \n",
       "137                        1.135                         0.930   \n",
       "138                        1.661                         0.648   \n",
       "139                        0.735                         0.848   \n",
       "140                        1.556                         0.686   \n",
       "141                        1.312                         0.839   \n",
       "142                        0.187                         1.503   \n",
       "143                        0.536                         0.785   \n",
       "144                        0.548                         0.947   \n",
       "145                        0.216                         1.392   \n",
       "146                        1.263                         0.758   \n",
       "\n",
       "      Explained by: Social support  Explained by: Healthy life expectancy  \\\n",
       "RANK                                                                        \n",
       "132                          1.043                                  0.384   \n",
       "133                          0.865                                  0.450   \n",
       "134                          0.724                                  0.675   \n",
       "135                          0.322                                  0.360   \n",
       "136                          0.376                                  0.471   \n",
       "137                          0.577                                  0.306   \n",
       "138                          0.279                                  0.388   \n",
       "139                          0.597                                  0.425   \n",
       "140                          0.416                                  0.273   \n",
       "141                          0.848                                  0.000   \n",
       "142                          0.815                                  0.280   \n",
       "143                          0.133                                  0.462   \n",
       "144                          0.690                                  0.270   \n",
       "145                          0.498                                  0.631   \n",
       "146                          0.000                                  0.289   \n",
       "\n",
       "      Explained by: Freedom to make life choices  Explained by: Generosity  \\\n",
       "RANK                                                                         \n",
       "132                                        0.330                     0.090   \n",
       "133                                        0.304                     0.088   \n",
       "134                                        0.476                     0.058   \n",
       "135                                        0.292                     0.174   \n",
       "136                                        0.647                     0.198   \n",
       "137                                        0.525                     0.203   \n",
       "138                                        0.477                     0.140   \n",
       "139                                        0.578                     0.248   \n",
       "140                                        0.387                     0.202   \n",
       "141                                        0.419                     0.076   \n",
       "142                                        0.571                     0.012   \n",
       "143                                        0.621                     0.187   \n",
       "144                                        0.329                     0.106   \n",
       "145                                        0.103                     0.082   \n",
       "146                                        0.000                     0.089   \n",
       "\n",
       "      Explained by: Perceptions of corruption  \n",
       "RANK                                           \n",
       "132                                     0.098  \n",
       "133                                     0.138  \n",
       "134                                     0.200  \n",
       "135                                     0.132  \n",
       "136                                     0.123  \n",
       "137                                     0.083  \n",
       "138                                     0.157  \n",
       "139                                     0.270  \n",
       "140                                     0.055  \n",
       "141                                     0.018  \n",
       "142                                     0.102  \n",
       "143                                     0.544  \n",
       "144                                     0.105  \n",
       "145                                     0.034  \n",
       "146                                     0.005  "
      ]
     },
     "execution_count": 28,
     "metadata": {},
     "output_type": "execute_result"
    }
   ],
   "source": [
    "# Last 15 countries.\n",
    "\n",
    "Last_15 = df.tail(15)\n",
    "Last_15"
   ]
  },
  {
   "cell_type": "raw",
   "id": "b2d02e14",
   "metadata": {},
   "source": [
    "'''what is the lowest rank countries lack to being at the top?'''"
   ]
  },
  {
   "cell_type": "code",
   "execution_count": 29,
   "id": "6dff1711",
   "metadata": {},
   "outputs": [
    {
     "data": {
      "text/plain": [
       "<Figure size 1440x1440 with 0 Axes>"
      ]
     },
     "execution_count": 29,
     "metadata": {},
     "output_type": "execute_result"
    },
    {
     "data": {
      "image/png": "[encoded data removed]",
      "text/plain": [
       "<Figure size 432x288 with 1 Axes>"
      ]
     },
     "metadata": {
      "needs_background": "light"
     },
     "output_type": "display_data"
    },
    {
     "data": {
      "text/plain": [
       "<Figure size 1440x1440 with 0 Axes>"
      ]
     },
     "metadata": {},
     "output_type": "display_data"
    }
   ],
   "source": [
    "#top \n",
    "plt.bar(Top_15['Country'],Top_15['Happiness score'],color ='r')\n",
    "\n",
    "plt.xticks(rotation = 90)  #for label rotation \n",
    "\n",
    "plt.xlabel(\"Countries\")\n",
    "plt.ylabel(\"Happiness score\")\n",
    "\n",
    "plt.figure(figsize= (20,20))"
   ]
  },
  {
   "cell_type": "code",
   "execution_count": 30,
   "id": "0aae26e5",
   "metadata": {},
   "outputs": [
    {
     "data": {
      "text/plain": [
       "<Figure size 1440x1440 with 0 Axes>"
      ]
     },
     "execution_count": 30,
     "metadata": {},
     "output_type": "execute_result"
    },
    {
     "data": {
      "image/png": "[encoded data removed]",
      "text/plain": [
       "<Figure size 432x288 with 1 Axes>"
      ]
     },
     "metadata": {
      "needs_background": "light"
     },
     "output_type": "display_data"
    },
    {
     "data": {
      "text/plain": [
       "<Figure size 1440x1440 with 0 Axes>"
      ]
     },
     "metadata": {},
     "output_type": "display_data"
    }
   ],
   "source": [
    "#last \n",
    "plt.bar(Last_15['Country'],Last_15['Happiness score'],color ='c')\n",
    "\n",
    "plt.xticks(rotation = 90)  #for label rotation \n",
    "\n",
    "plt.xlabel(\"Countries\")\n",
    "plt.ylabel(\"Happiness score\")\n",
    "\n",
    "plt.figure(figsize= (20,20))"
   ]
  },
  {
   "cell_type": "code",
   "execution_count": 31,
   "id": "9c5e1039",
   "metadata": {},
   "outputs": [
    {
     "data": {
      "text/plain": [
       "([0, 1, 2, 3, 4, 5, 6, 7, 8, 9, 10, 11, 12, 13, 14],\n",
       " [Text(0, 0, ''),\n",
       "  Text(0, 0, ''),\n",
       "  Text(0, 0, ''),\n",
       "  Text(0, 0, ''),\n",
       "  Text(0, 0, ''),\n",
       "  Text(0, 0, ''),\n",
       "  Text(0, 0, ''),\n",
       "  Text(0, 0, ''),\n",
       "  Text(0, 0, ''),\n",
       "  Text(0, 0, ''),\n",
       "  Text(0, 0, ''),\n",
       "  Text(0, 0, ''),\n",
       "  Text(0, 0, ''),\n",
       "  Text(0, 0, ''),\n",
       "  Text(0, 0, '')])"
      ]
     },
     "execution_count": 31,
     "metadata": {},
     "output_type": "execute_result"
    },
    {
     "data": {
      "image/png": "[encoded data removed]",
      "text/plain": [
       "<Figure size 720x360 with 1 Axes>"
      ]
     },
     "metadata": {
      "needs_background": "light"
     },
     "output_type": "display_data"
    }
   ],
   "source": [
    "#top countries per capita \n",
    "plt.figure(figsize = (10,5))\n",
    "\n",
    "plt.bar(Top_15['Country'],Top_15['Explained by: GDP per capita'],color = 'r')\n",
    "\n",
    "plt.xlabel('Countries')\n",
    "plt.ylabel('Explained by: GDP per capita')\n",
    "\n",
    "plt.xticks(rotation = 90)"
   ]
  },
  {
   "cell_type": "code",
   "execution_count": 32,
   "id": "f7e98a4d",
   "metadata": {},
   "outputs": [
    {
     "data": {
      "text/plain": [
       "([0, 1, 2, 3, 4, 5, 6, 7, 8, 9, 10, 11, 12, 13, 14],\n",
       " [Text(0, 0, ''),\n",
       "  Text(0, 0, ''),\n",
       "  Text(0, 0, ''),\n",
       "  Text(0, 0, ''),\n",
       "  Text(0, 0, ''),\n",
       "  Text(0, 0, ''),\n",
       "  Text(0, 0, ''),\n",
       "  Text(0, 0, ''),\n",
       "  Text(0, 0, ''),\n",
       "  Text(0, 0, ''),\n",
       "  Text(0, 0, ''),\n",
       "  Text(0, 0, ''),\n",
       "  Text(0, 0, ''),\n",
       "  Text(0, 0, ''),\n",
       "  Text(0, 0, '')])"
      ]
     },
     "execution_count": 32,
     "metadata": {},
     "output_type": "execute_result"
    },
    {
     "data": {
      "image/png": "[encoded data removed]",
      "text/plain": [
       "<Figure size 720x360 with 1 Axes>"
      ]
     },
     "metadata": {
      "needs_background": "light"
     },
     "output_type": "display_data"
    }
   ],
   "source": [
    "# last countries per capita \n",
    "plt.figure(figsize = (10,5))\n",
    "\n",
    "plt.bar(Last_15['Country'],Last_15['Explained by: GDP per capita'],color = 'c')\n",
    "\n",
    "plt.xlabel('Countries')\n",
    "plt.ylabel('Explained by: GDP per capita')\n",
    "\n",
    "plt.xticks(rotation = 90)"
   ]
  },
  {
   "cell_type": "markdown",
   "id": "73fab63d",
   "metadata": {},
   "source": [
    "# what we found \n",
    "- Gdp affects happines rate because we see that India claimed 1st rank in most populated countries but per capita is lower than most of the country .\n"
   ]
  },
  {
   "cell_type": "raw",
   "id": "9df034ee",
   "metadata": {},
   "source": [
    "# is Social support is important ."
   ]
  },
  {
   "cell_type": "code",
   "execution_count": 33,
   "id": "5ec0bd89",
   "metadata": {},
   "outputs": [
    {
     "data": {
      "text/plain": [
       "([0, 1, 2, 3, 4, 5, 6, 7, 8, 9, 10, 11, 12, 13, 14],\n",
       " [Text(0, 0, ''),\n",
       "  Text(0, 0, ''),\n",
       "  Text(0, 0, ''),\n",
       "  Text(0, 0, ''),\n",
       "  Text(0, 0, ''),\n",
       "  Text(0, 0, ''),\n",
       "  Text(0, 0, ''),\n",
       "  Text(0, 0, ''),\n",
       "  Text(0, 0, ''),\n",
       "  Text(0, 0, ''),\n",
       "  Text(0, 0, ''),\n",
       "  Text(0, 0, ''),\n",
       "  Text(0, 0, ''),\n",
       "  Text(0, 0, ''),\n",
       "  Text(0, 0, '')])"
      ]
     },
     "execution_count": 33,
     "metadata": {},
     "output_type": "execute_result"
    },
    {
     "data": {
      "image/png": "[encoded data removed]",
      "text/plain": [
       "<Figure size 720x360 with 1 Axes>"
      ]
     },
     "metadata": {
      "needs_background": "light"
     },
     "output_type": "display_data"
    }
   ],
   "source": [
    "# top\n",
    "plt.figure(figsize = (10,5))\n",
    "\n",
    "plt.bar(Top_15['Country'],Top_15['Explained by: Social support'],color = 'r')\n",
    "\n",
    "plt.xlabel('Countries')\n",
    "plt.ylabel('Explained by: Social support')\n",
    "\n",
    "plt.xticks(rotation = 90)"
   ]
  },
  {
   "cell_type": "code",
   "execution_count": 34,
   "id": "7dde128f",
   "metadata": {},
   "outputs": [
    {
     "data": {
      "text/plain": [
       "([0, 1, 2, 3, 4, 5, 6, 7, 8, 9, 10, 11, 12, 13, 14],\n",
       " [Text(0, 0, ''),\n",
       "  Text(0, 0, ''),\n",
       "  Text(0, 0, ''),\n",
       "  Text(0, 0, ''),\n",
       "  Text(0, 0, ''),\n",
       "  Text(0, 0, ''),\n",
       "  Text(0, 0, ''),\n",
       "  Text(0, 0, ''),\n",
       "  Text(0, 0, ''),\n",
       "  Text(0, 0, ''),\n",
       "  Text(0, 0, ''),\n",
       "  Text(0, 0, ''),\n",
       "  Text(0, 0, ''),\n",
       "  Text(0, 0, ''),\n",
       "  Text(0, 0, '')])"
      ]
     },
     "execution_count": 34,
     "metadata": {},
     "output_type": "execute_result"
    },
    {
     "data": {
      "image/png": "[encoded data removed]",
      "text/plain": [
       "<Figure size 720x360 with 1 Axes>"
      ]
     },
     "metadata": {
      "needs_background": "light"
     },
     "output_type": "display_data"
    }
   ],
   "source": [
    "# last\n",
    "plt.figure(figsize = (10,5))\n",
    "\n",
    "plt.bar(Last_15['Country'],Last_15['Explained by: Social support'],color = 'c')\n",
    "\n",
    "plt.xlabel('Countries')\n",
    "plt.ylabel('Explained by: Social support')\n",
    "\n",
    "plt.xticks(rotation = 90)"
   ]
  },
  {
   "cell_type": "markdown",
   "id": "91cf5e35",
   "metadata": {},
   "source": [
    "- we can see that why Social support is needed .\n",
    "- top countries social support rate are very high with compare to last ranked countries.\n",
    "-  afganistan has 0 social support .(because afganistan facing income problem) "
   ]
  },
  {
   "cell_type": "raw",
   "id": "53193d83",
   "metadata": {},
   "source": [
    "# is Corruption could be the reason for not so happy countries?let's find out."
   ]
  },
  {
   "cell_type": "code",
   "execution_count": 35,
   "id": "b644e0b5",
   "metadata": {},
   "outputs": [
    {
     "data": {
      "text/plain": [
       "([0, 1, 2, 3, 4, 5, 6, 7, 8, 9, 10, 11, 12, 13, 14],\n",
       " [Text(0, 0, ''),\n",
       "  Text(0, 0, ''),\n",
       "  Text(0, 0, ''),\n",
       "  Text(0, 0, ''),\n",
       "  Text(0, 0, ''),\n",
       "  Text(0, 0, ''),\n",
       "  Text(0, 0, ''),\n",
       "  Text(0, 0, ''),\n",
       "  Text(0, 0, ''),\n",
       "  Text(0, 0, ''),\n",
       "  Text(0, 0, ''),\n",
       "  Text(0, 0, ''),\n",
       "  Text(0, 0, ''),\n",
       "  Text(0, 0, ''),\n",
       "  Text(0, 0, '')])"
      ]
     },
     "execution_count": 35,
     "metadata": {},
     "output_type": "execute_result"
    },
    {
     "data": {
      "image/png": "[encoded data removed]",
      "text/plain": [
       "<Figure size 720x360 with 1 Axes>"
      ]
     },
     "metadata": {
      "needs_background": "light"
     },
     "output_type": "display_data"
    }
   ],
   "source": [
    "#top\n",
    "plt.figure(figsize = (10,5))\n",
    "\n",
    "plt.bar(Top_15['Country'],Top_15['Explained by: Perceptions of corruption'],color = 'r')\n",
    "\n",
    "plt.xlabel('Countries')\n",
    "plt.ylabel('Explained by: Perceptions of corruption')\n",
    "\n",
    "plt.xticks(rotation = 90)"
   ]
  },
  {
   "cell_type": "code",
   "execution_count": 36,
   "id": "8a32010d",
   "metadata": {},
   "outputs": [
    {
     "data": {
      "text/plain": [
       "([0, 1, 2, 3, 4, 5, 6, 7, 8, 9, 10, 11, 12, 13, 14],\n",
       " [Text(0, 0, ''),\n",
       "  Text(0, 0, ''),\n",
       "  Text(0, 0, ''),\n",
       "  Text(0, 0, ''),\n",
       "  Text(0, 0, ''),\n",
       "  Text(0, 0, ''),\n",
       "  Text(0, 0, ''),\n",
       "  Text(0, 0, ''),\n",
       "  Text(0, 0, ''),\n",
       "  Text(0, 0, ''),\n",
       "  Text(0, 0, ''),\n",
       "  Text(0, 0, ''),\n",
       "  Text(0, 0, ''),\n",
       "  Text(0, 0, ''),\n",
       "  Text(0, 0, '')])"
      ]
     },
     "execution_count": 36,
     "metadata": {},
     "output_type": "execute_result"
    },
    {
     "data": {
      "image/png": "[encoded data removed]",
      "text/plain": [
       "<Figure size 720x360 with 1 Axes>"
      ]
     },
     "metadata": {
      "needs_background": "light"
     },
     "output_type": "display_data"
    }
   ],
   "source": [
    "#last\n",
    "plt.figure(figsize = (10,5))\n",
    "\n",
    "plt.bar(Last_15['Country'],Last_15['Explained by: Perceptions of corruption'],color = 'c')\n",
    "\n",
    "plt.xlabel('Countries')\n",
    "plt.ylabel('Explained by: Perceptions of corruption')\n",
    "\n",
    "plt.xticks(rotation = 90)"
   ]
  },
  {
   "cell_type": "markdown",
   "id": "50e6721f",
   "metadata": {},
   "source": [
    "- yes corruption could be the main reason .\n",
    "- Rwanda is one of the free corruption countries but Rwanda is not the happiest country.\n",
    "- for most countries, corruption is the main hurdle."
   ]
  },
  {
   "cell_type": "code",
   "execution_count": 37,
   "id": "e16b485b",
   "metadata": {},
   "outputs": [],
   "source": [
    "# corruption free countries.\n",
    "corruption_free =df.sort_values('Explained by: Perceptions of corruption').tail(15)"
   ]
  },
  {
   "cell_type": "code",
   "execution_count": 38,
   "id": "66bbe213",
   "metadata": {},
   "outputs": [
    {
     "data": {
      "text/plain": [
       "([0, 1, 2, 3, 4, 5, 6, 7, 8, 9, 10, 11, 12, 13, 14],\n",
       " [Text(0, 0, ''),\n",
       "  Text(0, 0, ''),\n",
       "  Text(0, 0, ''),\n",
       "  Text(0, 0, ''),\n",
       "  Text(0, 0, ''),\n",
       "  Text(0, 0, ''),\n",
       "  Text(0, 0, ''),\n",
       "  Text(0, 0, ''),\n",
       "  Text(0, 0, ''),\n",
       "  Text(0, 0, ''),\n",
       "  Text(0, 0, ''),\n",
       "  Text(0, 0, ''),\n",
       "  Text(0, 0, ''),\n",
       "  Text(0, 0, ''),\n",
       "  Text(0, 0, '')])"
      ]
     },
     "execution_count": 38,
     "metadata": {},
     "output_type": "execute_result"
    },
    {
     "data": {
      "image/png": "[encoded data removed]",
      "text/plain": [
       "<Figure size 720x360 with 1 Axes>"
      ]
     },
     "metadata": {
      "needs_background": "light"
     },
     "output_type": "display_data"
    }
   ],
   "source": [
    "plt.figure(figsize = (10,5))\n",
    "\n",
    "plt.bar(corruption_free['Country'],corruption_free['Explained by: Perceptions of corruption'],color = 'c')\n",
    "\n",
    "plt.xlabel('Countries')\n",
    "plt.ylabel('Explained by: Perceptions of corruption')\n",
    "\n",
    "plt.xticks(rotation = 90)"
   ]
  },
  {
   "cell_type": "raw",
   "id": "395b4fd6",
   "metadata": {},
   "source": [
    "3. why india is not in the top 15 ?\n",
    "9. why most populated country india lacking behind from finland .(find every aspect)."
   ]
  },
  {
   "cell_type": "code",
   "execution_count": 39,
   "id": "0d2f2fb4",
   "metadata": {},
   "outputs": [
    {
     "data": {
      "text/html": [
       "<div>\n",
       "<style scoped>\n",
       "    .dataframe tbody tr th:only-of-type {\n",
       "        vertical-align: middle;\n",
       "    }\n",
       "\n",
       "    .dataframe tbody tr th {\n",
       "        vertical-align: top;\n",
       "    }\n",
       "\n",
       "    .dataframe thead th {\n",
       "        text-align: right;\n",
       "    }\n",
       "</style>\n",
       "<table border=\"1\" class=\"dataframe\">\n",
       "  <thead>\n",
       "    <tr style=\"text-align: right;\">\n",
       "      <th></th>\n",
       "      <th>Country</th>\n",
       "      <th>Happiness score</th>\n",
       "      <th>Whisker-high</th>\n",
       "      <th>Whisker-low</th>\n",
       "      <th>Dystopia (1.83) + residual</th>\n",
       "      <th>Explained by: GDP per capita</th>\n",
       "      <th>Explained by: Social support</th>\n",
       "      <th>Explained by: Healthy life expectancy</th>\n",
       "      <th>Explained by: Freedom to make life choices</th>\n",
       "      <th>Explained by: Generosity</th>\n",
       "      <th>Explained by: Perceptions of corruption</th>\n",
       "    </tr>\n",
       "    <tr>\n",
       "      <th>RANK</th>\n",
       "      <th></th>\n",
       "      <th></th>\n",
       "      <th></th>\n",
       "      <th></th>\n",
       "      <th></th>\n",
       "      <th></th>\n",
       "      <th></th>\n",
       "      <th></th>\n",
       "      <th></th>\n",
       "      <th></th>\n",
       "      <th></th>\n",
       "    </tr>\n",
       "  </thead>\n",
       "  <tbody>\n",
       "    <tr>\n",
       "      <th>1</th>\n",
       "      <td>Finland</td>\n",
       "      <td>7.821</td>\n",
       "      <td>7.886</td>\n",
       "      <td>7.756</td>\n",
       "      <td>2.518</td>\n",
       "      <td>1.892</td>\n",
       "      <td>1.258</td>\n",
       "      <td>0.775</td>\n",
       "      <td>0.736</td>\n",
       "      <td>0.109</td>\n",
       "      <td>0.534</td>\n",
       "    </tr>\n",
       "  </tbody>\n",
       "</table>\n",
       "</div>"
      ],
      "text/plain": [
       "      Country  Happiness score  Whisker-high  Whisker-low  \\\n",
       "RANK                                                        \n",
       "1     Finland            7.821         7.886        7.756   \n",
       "\n",
       "      Dystopia (1.83) + residual  Explained by: GDP per capita  \\\n",
       "RANK                                                             \n",
       "1                          2.518                         1.892   \n",
       "\n",
       "      Explained by: Social support  Explained by: Healthy life expectancy  \\\n",
       "RANK                                                                        \n",
       "1                            1.258                                  0.775   \n",
       "\n",
       "      Explained by: Freedom to make life choices  Explained by: Generosity  \\\n",
       "RANK                                                                         \n",
       "1                                          0.736                     0.109   \n",
       "\n",
       "      Explained by: Perceptions of corruption  \n",
       "RANK                                           \n",
       "1                                       0.534  "
      ]
     },
     "execution_count": 39,
     "metadata": {},
     "output_type": "execute_result"
    }
   ],
   "source": [
    "#extraact india and finland data .\n",
    "finland_2022 = df.loc[df[\"Country\"]== \"Finland\",:].drop(columns= 'RANK')\n",
    "finland_2022.head()"
   ]
  },
  {
   "cell_type": "code",
   "execution_count": 40,
   "id": "e8cdf1e0",
   "metadata": {},
   "outputs": [
    {
     "data": {
      "text/html": [
       "<div>\n",
       "<style scoped>\n",
       "    .dataframe tbody tr th:only-of-type {\n",
       "        vertical-align: middle;\n",
       "    }\n",
       "\n",
       "    .dataframe tbody tr th {\n",
       "        vertical-align: top;\n",
       "    }\n",
       "\n",
       "    .dataframe thead th {\n",
       "        text-align: right;\n",
       "    }\n",
       "</style>\n",
       "<table border=\"1\" class=\"dataframe\">\n",
       "  <thead>\n",
       "    <tr style=\"text-align: right;\">\n",
       "      <th></th>\n",
       "      <th>Country</th>\n",
       "      <th>Happiness score</th>\n",
       "      <th>Whisker-high</th>\n",
       "      <th>Whisker-low</th>\n",
       "      <th>Dystopia (1.83) + residual</th>\n",
       "      <th>Explained by: GDP per capita</th>\n",
       "      <th>Explained by: Social support</th>\n",
       "      <th>Explained by: Healthy life expectancy</th>\n",
       "      <th>Explained by: Freedom to make life choices</th>\n",
       "      <th>Explained by: Generosity</th>\n",
       "      <th>Explained by: Perceptions of corruption</th>\n",
       "    </tr>\n",
       "    <tr>\n",
       "      <th>RANK</th>\n",
       "      <th></th>\n",
       "      <th></th>\n",
       "      <th></th>\n",
       "      <th></th>\n",
       "      <th></th>\n",
       "      <th></th>\n",
       "      <th></th>\n",
       "      <th></th>\n",
       "      <th></th>\n",
       "      <th></th>\n",
       "      <th></th>\n",
       "    </tr>\n",
       "  </thead>\n",
       "  <tbody>\n",
       "    <tr>\n",
       "      <th>136</th>\n",
       "      <td>India</td>\n",
       "      <td>3.777</td>\n",
       "      <td>3.828</td>\n",
       "      <td>3.726</td>\n",
       "      <td>0.795</td>\n",
       "      <td>1.167</td>\n",
       "      <td>0.376</td>\n",
       "      <td>0.471</td>\n",
       "      <td>0.647</td>\n",
       "      <td>0.198</td>\n",
       "      <td>0.123</td>\n",
       "    </tr>\n",
       "  </tbody>\n",
       "</table>\n",
       "</div>"
      ],
      "text/plain": [
       "     Country  Happiness score  Whisker-high  Whisker-low  \\\n",
       "RANK                                                       \n",
       "136    India            3.777         3.828        3.726   \n",
       "\n",
       "      Dystopia (1.83) + residual  Explained by: GDP per capita  \\\n",
       "RANK                                                             \n",
       "136                        0.795                         1.167   \n",
       "\n",
       "      Explained by: Social support  Explained by: Healthy life expectancy  \\\n",
       "RANK                                                                        \n",
       "136                          0.376                                  0.471   \n",
       "\n",
       "      Explained by: Freedom to make life choices  Explained by: Generosity  \\\n",
       "RANK                                                                         \n",
       "136                                        0.647                     0.198   \n",
       "\n",
       "      Explained by: Perceptions of corruption  \n",
       "RANK                                           \n",
       "136                                     0.123  "
      ]
     },
     "execution_count": 40,
     "metadata": {},
     "output_type": "execute_result"
    }
   ],
   "source": [
    "India_2022 = df.loc[df[\"Country\"] == \"India\", :].drop(columns= 'RANK')\n",
    "India_2022.head()"
   ]
  },
  {
   "cell_type": "code",
   "execution_count": 41,
   "id": "32bcdb51",
   "metadata": {},
   "outputs": [
    {
     "data": {
      "text/plain": [
       "<AxesSubplot:title={'center':'India 2022'}, xlabel='RANK'>"
      ]
     },
     "execution_count": 41,
     "metadata": {},
     "output_type": "execute_result"
    },
    {
     "data": {
      "image/png": "[encoded data removed]",
      "text/plain": [
       "<Figure size 720x432 with 1 Axes>"
      ]
     },
     "metadata": {
      "needs_background": "light"
     },
     "output_type": "display_data"
    },
    {
     "data": {
      "image/png": "[encoded data removed]",
      "text/plain": [
       "<Figure size 720x432 with 1 Axes>"
      ]
     },
     "metadata": {
      "needs_background": "light"
     },
     "output_type": "display_data"
    }
   ],
   "source": [
    "# Finland Rate in every aspect.\n",
    "\n",
    "finland_2022.plot(kind = \"bar\",figsize = (10,6),title= 'Finland 2022')\n",
    "\n",
    "India_2022.plot(kind= 'bar',figsize = (10,6),title = 'India 2022')"
   ]
  },
  {
   "cell_type": "markdown",
   "id": "a928d8fc",
   "metadata": {},
   "source": [
    "# what we get with this analysis \n",
    "- huge differance in happiness score of both coutries.\n",
    "- india get high rate in generocity by finland .\n",
    "- but get far behind in every other aspect .\n",
    "- main focus of this analysis is why finland is happy than india beacause india is most populated than finland.\n",
    "- that means population affacts countries happiness more than any aspect."
   ]
  },
  {
   "cell_type": "code",
   "execution_count": null,
   "id": "f75db48f",
   "metadata": {},
   "outputs": [],
   "source": []
  },
  {
   "cell_type": "markdown",
   "id": "8ce40c90",
   "metadata": {},
   "source": [
    "## ask & answer question\n",
    "1. top 15 and last countries by happiness index?    (done)\n",
    "2. what is the lowest rank countries lack to being at the top?(done)\n",
    "3. why india is not in the top 15 ?\n",
    "4. why afganistan is not happy country?\n",
    "5. why are top countries on top?    (done)\n",
    "6. is corruption affects the happiness rate ?(done)\n",
    "7. is GDP per capita is the reason for other countries lacking behind.(done)\n",
    "8. top corruption free countries.(done)\n",
    "9. why most populated country india lacking behind from finland .(find every aspect)."
   ]
  },
  {
   "cell_type": "markdown",
   "id": "5eebe573",
   "metadata": {},
   "source": [
    "# Conclusion\n",
    "__Finland is the most happiest country in the world__\n",
    "\n",
    "- It has its GDP less then many countries It has a good level of Social support and Healthy life Expectancy It ranks 1 (among top 15 Countries) in terms of freedom to make speech and Preception of corruption It has lowest Generosity (among top 10 Countries)\n",
    "\n",
    "__Afghanistan Rank last In terms of Happiness Score__\n",
    "\n",
    "- It ranks last in terms of Freedom to make choices and Preceptions of Corruption It ranks 4th in Last 15 countries in terms of Generosity It ranks 5th in Last 10 countries in terms of Healthy life expectancy It ranks 3rd in Last 10 countries in terms of GDP per capita\n",
    "\n",
    "__Out of all the attributes GDP, Freedom to make choices, Social Support, Life Expectancy and Perception of Corruption are the once that contribute most to the happiness score__\n",
    "\n",
    "\n",
    "__Rank increases when GDP Decreases but there are some exceptions same is the case with Health Expectancy, Freedom to make choices and Social Support but Generosity and Perception of corruption is on the lower side for majority of the Countries.__\n",
    "\n",
    "\n"
   ]
  }
 ],
 "metadata": {
  "kernelspec": {
   "display_name": "Python 3 (ipykernel)",
   "language": "python",
   "name": "python3"
  },
  "language_info": {
   "codemirror_mode": {
    "name": "ipython",
    "version": 3
   },
   "file_extension": ".py",
   "mimetype": "text/x-python",
   "name": "python",
   "nbconvert_exporter": "python",
   "pygments_lexer": "ipython3",
   "version": "3.9.7"
  }
 },
 "nbformat": 4,
 "nbformat_minor": 5
}
